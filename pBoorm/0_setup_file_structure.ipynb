{
 "cells": [
  {
   "cell_type": "markdown",
   "metadata": {},
   "source": [
    "This notebook creates the file structure for the patient photos currently (as of 1/10/2019):\n",
    "\n",
    "Master > Patient letter allocation > photo number folder > original colour jpg + 3 colour fits files + regions folder with details of regions extracted by hand"
   ]
  },
  {
   "cell_type": "code",
   "execution_count": 1,
   "metadata": {},
   "outputs": [],
   "source": [
    "import os\n",
    "import numpy as np\n",
    "from PIL import Image\n",
    "from astropy.io import fits\n",
    "\n",
    "import matplotlib.pyplot as plt\n",
    "from astropy.visualization import astropy_mpl_style\n",
    "plt.style.use(astropy_mpl_style)"
   ]
  },
  {
   "cell_type": "markdown",
   "metadata": {},
   "source": [
    "## temporary for one photo\n",
    "(First make it work for one photo)"
   ]
  },
  {
   "cell_type": "code",
   "execution_count": 4,
   "metadata": {},
   "outputs": [
    {
     "name": "stdout",
     "output_type": "stream",
     "text": [
      "Image size: 2490 x 3800\n",
      "(9462000,)\n"
     ]
    }
   ],
   "source": [
    "image = Image.open('../Photos/A/30536.jpg')\n",
    "xsize, ysize = image.size\n",
    "print(\"Image size: {} x {}\".format(xsize, ysize))\n",
    "# plt.imshow(image)\n",
    "\n",
    "r, g, b = image.split()\n",
    "r_data = np.array(r.getdata()) # data is now an array of length ysize*xsize\n",
    "g_data = np.array(g.getdata())\n",
    "b_data = np.array(b.getdata())\n",
    "print(r_data.shape)\n",
    "\n",
    "r_data = r_data.reshape(ysize, xsize)[::-1]\n",
    "g_data = g_data.reshape(ysize, xsize)[::-1]\n",
    "b_data = b_data.reshape(ysize, xsize)[::-1]\n",
    "\n",
    "try:\n",
    "    os.remove(\"fitsFiles/red.fits\")\n",
    "    os.remove(\"fitsFiles/green.fits\")\n",
    "    os.remove(\"fitsFiles/blue.fits\")\n",
    "except:\n",
    "    print(\"Can't remove as the file doesn't exist\")\n",
    "    \n",
    "red = fits.PrimaryHDU(data=r_data)\n",
    "# red.header['LATOBS'] = \"32:11:56\" # add spurious header info\n",
    "# red.header['LONGOBS'] = \"110:56\"\n",
    "red.writeto('fitsFiles/red.fits')\n",
    "\n",
    "green = fits.PrimaryHDU(data=g_data)\n",
    "# green.header['LATOBS'] = \"32:11:56\"\n",
    "# green.header['LONGOBS'] = \"110:56\"\n",
    "green.writeto('fitsFiles/green.fits')\n",
    "\n",
    "blue = fits.PrimaryHDU(data=b_data)\n",
    "# blue.header['LATOBS'] = \"32:11:56\"\n",
    "# blue.header['LONGOBS'] = \"110:56\"\n",
    "blue.writeto('fitsFiles/blue.fits')"
   ]
  },
  {
   "cell_type": "markdown",
   "metadata": {},
   "source": [
    "## Apply for all photos\n",
    "## Warning: don't run this if the file structure already exists somewhere else as it will duplicate it"
   ]
  },
  {
   "cell_type": "code",
   "execution_count": 17,
   "metadata": {},
   "outputs": [
    {
     "name": "stdout",
     "output_type": "stream",
     "text": [
      "/Users/pboorman/Dropbox/1_work/9_projects/9p_molegazer//0_PATIENT_DATA//R\n",
      "/Users/pboorman/Dropbox/1_work/9_projects/9p_molegazer//0_PATIENT_DATA//I\n",
      "/Users/pboorman/Dropbox/1_work/9_projects/9p_molegazer//0_PATIENT_DATA//N\n",
      "/Users/pboorman/Dropbox/1_work/9_projects/9p_molegazer//0_PATIENT_DATA//G\n",
      "/Users/pboorman/Dropbox/1_work/9_projects/9p_molegazer//0_PATIENT_DATA//S\n",
      "/Users/pboorman/Dropbox/1_work/9_projects/9p_molegazer//0_PATIENT_DATA//A\n",
      "/Users/pboorman/Dropbox/1_work/9_projects/9p_molegazer//0_PATIENT_DATA//F\n",
      "/Users/pboorman/Dropbox/1_work/9_projects/9p_molegazer//0_PATIENT_DATA//O\n",
      "/Users/pboorman/Dropbox/1_work/9_projects/9p_molegazer//0_PATIENT_DATA//H\n",
      "/Users/pboorman/Dropbox/1_work/9_projects/9p_molegazer//0_PATIENT_DATA//M\n",
      "/Users/pboorman/Dropbox/1_work/9_projects/9p_molegazer//0_PATIENT_DATA//J\n",
      "/Users/pboorman/Dropbox/1_work/9_projects/9p_molegazer//0_PATIENT_DATA//C\n",
      "/Users/pboorman/Dropbox/1_work/9_projects/9p_molegazer//0_PATIENT_DATA//D\n",
      "/Users/pboorman/Dropbox/1_work/9_projects/9p_molegazer//0_PATIENT_DATA//Q\n",
      "/Users/pboorman/Dropbox/1_work/9_projects/9p_molegazer//0_PATIENT_DATA//E\n",
      "/Users/pboorman/Dropbox/1_work/9_projects/9p_molegazer//0_PATIENT_DATA//B\n",
      "/Users/pboorman/Dropbox/1_work/9_projects/9p_molegazer//0_PATIENT_DATA//K\n",
      "/Users/pboorman/Dropbox/1_work/9_projects/9p_molegazer//0_PATIENT_DATA//L\n",
      "/Users/pboorman/Dropbox/1_work/9_projects/9p_molegazer//0_PATIENT_DATA//P\n"
     ]
    }
   ],
   "source": [
    "## where to store the fits files\n",
    "master=\"/Users/pboorman/Dropbox/1_work/9_projects/9p_molegazer/0_PATIENT_DATA/\"\n",
    "if not os.path.exists(master):os.makedirs(master)\n",
    "    \n",
    "    \n",
    "import glob\n",
    "from shutil import copyfile\n",
    "\n",
    "\n",
    "\n",
    "def save_fits(image_path,destination):\n",
    "    image=Image.open(image_path)\n",
    "    xsize,ysize=image.size\n",
    "    print(\"Image size: {} x {}\".format(xsize, ysize))\n",
    "    # plt.imshow(image)\n",
    "\n",
    "    r, g, b = image.split()\n",
    "    r_data = np.array(r.getdata()) # data is now an array of length ysize*xsize\n",
    "    g_data = np.array(g.getdata())\n",
    "    b_data = np.array(b.getdata())\n",
    "    print(r_data.shape)\n",
    "\n",
    "    r_data = r_data.reshape(ysize, xsize)[::-1]\n",
    "    g_data = g_data.reshape(ysize, xsize)[::-1]\n",
    "    b_data = b_data.reshape(ysize, xsize)[::-1]\n",
    "\n",
    "    try:\n",
    "        os.remove(destination+\"red.fits\")\n",
    "        os.remove(destination+\"green.fits\")\n",
    "        os.remove(destination+\"blue.fits\")\n",
    "    except:\n",
    "        print(\"Can't remove as the file doesn't exist\")\n",
    "\n",
    "    red = fits.PrimaryHDU(data=r_data)\n",
    "    red.writeto(destination+\"red.fits\")\n",
    "\n",
    "    green = fits.PrimaryHDU(data=g_data)\n",
    "    green.writeto(destination+\"green.fits\")\n",
    "\n",
    "    blue = fits.PrimaryHDU(data=b_data)\n",
    "    blue.writeto(destination+\"blue.fits\")\n",
    "    \n",
    "    \n",
    "patients=glob.glob(os.getcwd()+\"/mg_shared/Photographs/*\")\n",
    "\n",
    "for i,patient in enumerate(patients):\n",
    "    patient_photos=glob.glob(patient+\"/*\")\n",
    "    \n",
    "    ## create new folder for each patient\n",
    "    new_patient_path=patient.split(\"mg_shared\")[0]+\"/0_PATIENT_DATA/\"+patient.split(\"Photographs\")[-1]\n",
    "    if not os.path.exists(new_patient_path):os.makedirs(new_patient_path)\n",
    "    print(new_patient_path)\n",
    "    \n",
    "    for j,photo in enumerate(patient_photos):\n",
    "        photo_name=photo.split(\".jpg\")[0].split(\"/\")[-1]\n",
    "        \n",
    "        ## create new folder for every photo to store corresponding fits files\n",
    "        new_photo_path=new_patient_path+\"/\"+photo_name\n",
    "        if not os.path.exists(new_photo_path):os.makedirs(new_photo_path)\n",
    "            \n",
    "        ## copy original jpg to the new folder\n",
    "        copyfile(photo,new_photo_path+\"/\"+photo_name+\"ORIGINAL.jpg\")\n",
    "        \n",
    "        ## save red, green and blue fits files\n",
    "#         save_fits(photo,new_photo_path+\"/\"+photo_name)\n",
    "\n",
    "        if not os.path.exists(new_photo_path+\"/\"+photo_name+\"regions\"):os.makedirs(new_photo_path+\"/\"+photo_name+\"regions\")\n",
    "        "
   ]
  }
 ],
 "metadata": {
  "kernelspec": {
   "display_name": "Python 3",
   "language": "python",
   "name": "python3"
  },
  "language_info": {
   "codemirror_mode": {
    "name": "ipython",
    "version": 2
   },
   "file_extension": ".py",
   "mimetype": "text/x-python",
   "name": "python",
   "nbconvert_exporter": "python",
   "pygments_lexer": "ipython2",
   "version": "2.7.12"
  }
 },
 "nbformat": 4,
 "nbformat_minor": 2
}
