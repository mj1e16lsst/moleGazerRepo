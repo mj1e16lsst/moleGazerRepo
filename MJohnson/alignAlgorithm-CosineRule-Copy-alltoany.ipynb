{
 "cells": [
  {
   "cell_type": "code",
   "execution_count": 1,
   "metadata": {},
   "outputs": [],
   "source": [
    "import astroprov\n",
    "from astropy.io import fits\n",
    "from astropy.table import Table\n",
    "from astropy.io import ascii\n",
    "from astropy.stats import sigma_clipped_stats\n",
    "from astropy.coordinates import SkyCoord\n",
    "from astropy.table import QTable\n",
    "\n",
    "import matplotlib.pyplot as plt\n",
    "import numpy as np\n",
    "import os\n",
    "from regions.core import PixCoord\n",
    "from regions.shapes.circle import CirclePixelRegion\n",
    "import subprocess\n",
    "import time\n",
    "import matplotlib.text as mpl_text\n",
    "import math\n",
    "import pandas as pd\n",
    "import pandasql as ps"
   ]
  },
  {
   "cell_type": "code",
   "execution_count": 2,
   "metadata": {},
   "outputs": [],
   "source": [
    "imageRefernce = '/home/mj1e16/moleGazer/Photos/F/29018.jpg'\n",
    "imageAlign =  '/home/mj1e16/moleGazer/Photos/F/79948.jpg'\n",
    "# original image names\n",
    "\n",
    "imageRefernceFits = '/home/mj1e16/moleGazer/Photos/F/fitsImages/16bit/29018InvertedAverageCropped16.fits'\n",
    "imageAlignFits =  '/home/mj1e16/moleGazer/Photos/F/fitsImages/16bit/79948InvertedAverageCropped16.fits'\n",
    "# processed image names\n",
    "\n",
    "\n",
    "## max setting [6.444444444444445, 21.842105263157894, 'gauss_5.0_9x9.conv']\n",
    "\n",
    "refTab = Table.read('/home/mj1e16/moleGazer/Photos/F/fitsImages/simMolePos/29018InvertedAverageCropped166.44444444444_21.8421052632_gauss_5.0_9x9.conv.cat',format='ascii.sextractor')\n",
    "alignTab = Table.read('/home/mj1e16/moleGazer/Photos/F/fitsImages/simMolePos/79948InvertedAverageCropped166.44444444444_21.8421052632_gauss_5.0_9x9.conv.cat',format='ascii.sextractor')\n",
    "# names of aperture photometry output tables"
   ]
  },
  {
   "cell_type": "code",
   "execution_count": 3,
   "metadata": {},
   "outputs": [],
   "source": [
    "def makeDS9RegFile(sexTabList,fileNameBase,tabType,colour='red',radius='10'):\n",
    "    '''\n",
    "    Transforms a list of SExtractor, DAOphot, or IRAF output tables to a ds9 region file.\n",
    "    \n",
    "    Parameters:\n",
    "        sexTabList (list): List of SExtractor output tables.\n",
    "        fileNameBase (str): Naming convention for ds9 region file.\n",
    "        tabType (str): Type of output file.\n",
    "        colour (str): Colour of apertures created in ds9 region file.\n",
    "        radius (str): Size of apertures created in ds9 region file.\n",
    "        \n",
    "    Returns:\n",
    "        fileName (str): Name of created ds9 region file.\n",
    "    \n",
    "    '''\n",
    "    # tabType can take values: 'dao' for DAOphot; 'sexMedian' to use RA and DEC; 'sex' for SExtractor; 'iraf' for IRAF  \n",
    "    for tables in range(len(sexTabList)):\n",
    "        if tabType == 'dao':\n",
    "            xcoords = sexTabList[tables]['xcentroid']\n",
    "            ycoords = sexTabList[tables]['ycentroid']\n",
    "        elif tabType == 'sexMedian':\n",
    "            ra = sexTabList[tables]['RA']\n",
    "            dec = sexTabList[tables]['DEC']\n",
    "        elif tabType == 'sex':\n",
    "            xcoords = sexTabList[tables]['X_IMAGE']\n",
    "            ycoords = sexTabList[tables]['Y_IMAGE']\n",
    "        elif tabType == 'iraf':\n",
    "            xcoords = sexTabList[tables]['X_POS']\n",
    "            ycoords = sexTabList[tables]['Y_POS']        \n",
    "        else:\n",
    "            print('tab type error')\n",
    "            break\n",
    "        bigString = 'image\\n'\n",
    "        for x in range(len(xcoords)):\n",
    "            bigString += 'circle({},{},'.format(xcoords[x],ycoords[x])+radius+') # color={}\\n'.format(colour)\n",
    "        fileName = fileNameBase + '.reg'\n",
    "        with open(fileName,'w') as f:\n",
    "            f.write(bigString)\n",
    "            \n",
    "    return fileName"
   ]
  },
  {
   "cell_type": "code",
   "execution_count": null,
   "metadata": {},
   "outputs": [],
   "source": [
    "makeDS9RegFile([alignTab],'/home/mj1e16/moleGazer/MoleGazer/79948Regions','sex')\n",
    "makeDS9RegFile([refTab],'/home/mj1e16/moleGazer/MoleGazer/29018Regions','sex')"
   ]
  },
  {
   "cell_type": "code",
   "execution_count": 4,
   "metadata": {},
   "outputs": [],
   "source": [
    "# could use a re-work\n",
    "\n",
    "def findTestSources(sources,lowx, highx, lowy, highy, imageNo):\n",
    "    \"\"\"\n",
    "    Searches for bright objects to be used for pattern recognition within a specified region of the reference image.\n",
    "\n",
    "    :param sources: Table of object data\n",
    "    :param lowx: Lower X limit of for searching region region\n",
    "    :param highx: Upper X limit\n",
    "    :param lowy: Lower Y limit\n",
    "    :param highy: Upper Y limit\n",
    "    :param imageNo: Reference image number\n",
    "    :return: Indexes in sources of (up to) the brightest 15 objects contained within the specified region\n",
    "    \"\"\"\n",
    "    testsources = {}\n",
    "    mag = []\n",
    "    number = []\n",
    "    #for x in range(sources[imageNo][-1][0]):\n",
    "    for x in range(len(sources[imageNo])):\n",
    "        x1 = sources[imageNo]['X_IMAGE'][x]\n",
    "        y1 = sources[imageNo]['Y_IMAGE'][x]\n",
    "        if x1 > lowx and x1 < highx and y1 > lowy and y1 < highy:\n",
    "            testsources[x] = sources[imageNo][x]\n",
    "            mag.append(sources[imageNo]['MAG_BEST'][x])\n",
    "            number.append(x)\n",
    "    Z2 = [x for _,x in sorted(zip(mag,number))]\n",
    "    samplestars = Z2[0:15]\n",
    "    \n",
    "    #astroprov.provcall([sources,lowx, highx, lowy, highy, imageNo],[samplestars],\"findTestSources_PythonCode2PythonCode_SQ_tmpl.provn\",\"findTestSources\")\n",
    "    return samplestars"
   ]
  },
  {
   "cell_type": "code",
   "execution_count": 5,
   "metadata": {},
   "outputs": [],
   "source": [
    "def getImageData(imageName,extension):\n",
    "    '''\n",
    "    Extract image data from file name.\n",
    "    \n",
    "    Parameters:\n",
    "        imageName (str): Name of image.\n",
    "        extension (int): Extension to be extracted.\n",
    "        \n",
    "    Returns:\n",
    "        imageData (array): 2-D numpy array of image data.\n",
    "    '''\n",
    "    hdu = fits.open(imageName)\n",
    "    imageData = hdu[extension].data\n",
    "    return imageData"
   ]
  },
  {
   "cell_type": "code",
   "execution_count": 6,
   "metadata": {},
   "outputs": [],
   "source": [
    "def ds9File2Lists(fileName):\n",
    "    '''\n",
    "    Transform objects within ds8 region file to python lists.\n",
    "    \n",
    "    Parameters:\n",
    "        fileName (str): Name of ds9 region file.\n",
    "        \n",
    "    Returns:\n",
    "        [xcoord,ycoord,radius] ([lst,lst,lst]: [object x positions, object y positions, object radius].\n",
    "    '''\n",
    "    with open(fileName,'r') as f:\n",
    "        data = f.readlines()\n",
    "\n",
    "    ycoord = []\n",
    "    xcoord = []\n",
    "    radius = []\n",
    "    starLocations = []\n",
    "    for x in data[:-1]:\n",
    "        try:\n",
    "            locator1 = '('\n",
    "            locator2 = ','\n",
    "            locator3 = ')'\n",
    "            loc1 = x.index(locator1) +1\n",
    "            #print(x)\n",
    "            loc2 = x[loc1:].index(locator2) + loc1 +1\n",
    "            loc3 = x[loc2:].index(locator2) + loc2\n",
    "            loc4 = x.index(locator3)\n",
    "            xcoord.append(float(x[loc1:loc2-1]))\n",
    "            ycoord.append(float(x[loc2:loc3]))\n",
    "            radius.append(float(x[loc3+1:loc4]))\n",
    "        except:\n",
    "            print('Line - {}'.format(x))\n",
    "    return [xcoord,ycoord,radius]"
   ]
  },
  {
   "cell_type": "code",
   "execution_count": 7,
   "metadata": {},
   "outputs": [],
   "source": [
    "def plotMolesOnly(image,moleLocFile):\n",
    "    '''\n",
    "    Plot mole positions on an image.\n",
    "    \n",
    "    Parameters:\n",
    "        image (str): Image name.\n",
    "        moleLocFile (str): DS9 region file contianing mole positions\n",
    "    '''\n",
    "    # Function doesn't return anything, just creates the image\n",
    "    imdata = getImageData(image,0)\n",
    "    moleLocs = ds9File2Lists(moleLocFile)\n",
    "    alignlocs = moleLocs\n",
    "    mask = []\n",
    "    #maskData = []\n",
    "    for mole in range(len(alignlocs[0])):\n",
    "        centre = PixCoord(alignlocs[0][mole],alignlocs[1][mole])\n",
    "        reg = CirclePixelRegion(centre,alignlocs[2][mole])\n",
    "        mask.append(reg.to_mask())\n",
    "        #maskData.append(mask[mole].cutout(imdata)*mask[mole].data)\n",
    "    \n",
    "    fig, [ax1,ax2] = plt.subplots(1,2,figsize=(10,20))\n",
    "    ax1.imshow(imdata)\n",
    "    for x in range(len(mask)):\n",
    "        numbering = mpl_text.Text(x=alignlocs[0][x],y=alignlocs[1][x],text=str(x),color='r')\n",
    "        ax1.add_artist(mask[x].bbox.as_artist(facecolor='none', edgecolor='white'))\n",
    "        ax1.add_artist(numbering)\n",
    "    #ax2.imshow(zeros)\n",
    "    ax2.imshow(imdata)\n",
    "    plt.show()"
   ]
  },
  {
   "cell_type": "code",
   "execution_count": 8,
   "metadata": {},
   "outputs": [],
   "source": [
    "def cosineRule(masterStar,star1,star2):\n",
    "    '''\n",
    "    Calculate angle between three stars as masterStar as the centre\n",
    "    \n",
    "    Parameters:\n",
    "        masterStar (lst): [x,y] image position of centre star\n",
    "        star1 (lst): [x,y] image position of star1\n",
    "        star2 (lst): [x,y] image position of star2\n",
    "    \n",
    "    Returns:\n",
    "        CRounded (float): Angle between three input stars rounded to 1 decimal point\n",
    "    '''\n",
    "    a = ((masterStar[0]-star2[0])**2 + (masterStar[1]-star2[1])**2)**0.5\n",
    "    b = ((star1[0]-masterStar[0])**2 + (star1[1]-masterStar[1])**2)**0.5\n",
    "    c = (star1[0]-star2[0])**2 + (star1[1]-star2[1])**2\n",
    "    C = np.arccos((a**2 + b**2 - c)/(2*a*b))\n",
    "    CRounded = round(C,1)\n",
    "    return CRounded"
   ]
  },
  {
   "cell_type": "code",
   "execution_count": 9,
   "metadata": {},
   "outputs": [],
   "source": [
    "def findAllAnglesPerStar(table,starNo):\n",
    "    '''\n",
    "    Calculate all angles between a master stars and all other stars in a table\n",
    "    \n",
    "    Parameters:\n",
    "        table (table): Astropy table of star positions\n",
    "        starNo (int): Index of master star in table\n",
    "    \n",
    "    Returns:\n",
    "        allAngles (lst): Nested lists containing all angles \n",
    "    '''\n",
    "    \n",
    "    masterStar = [table['X_IMAGE'][starNo],table['Y_IMAGE'][starNo]]\n",
    "    allAngles = []\n",
    "    for x in range(len(table)):\n",
    "        if x != starNo:\n",
    "            anglePerStar = []\n",
    "            star1 = [table['X_IMAGE'][x],table['Y_IMAGE'][x]]\n",
    "            for y in range(len(table)):\n",
    "                if y != x and y!= starNo:\n",
    "                    star2 = [table['X_IMAGE'][y],table['Y_IMAGE'][y]]\n",
    "                    anglePerStar.append(cosineRule(masterStar,star1,star2))\n",
    "            allAngles.append(anglePerStar)\n",
    "    return allAngles"
   ]
  },
  {
   "cell_type": "code",
   "execution_count": 48,
   "metadata": {},
   "outputs": [],
   "source": [
    "def distance(sources,object1,object2):\n",
    "    \"\"\"\n",
    "    Find the distance between two objects in an image.\n",
    "\n",
    "    :param sources: Table of object data\n",
    "    :param object1: Index of first object in sources\n",
    "    :param object2: Index of second object in sources\n",
    "    :param imageNo: Image Number\n",
    "    :return: Diagonal distance between the two objects\n",
    "    \"\"\"\n",
    "    D = (((abs(sources['X_IMAGE'][object1]-sources['X_IMAGE'][object2])**2) + (abs(sources['Y_IMAGE'][object1]-sources['Y_IMAGE'][object2])**2))**0.5)\n",
    "    Drounded = round(D,0)\n",
    "    #print([round(x/5,-1)*5 for x in a])\n",
    "    return Drounded\n"
   ]
  },
  {
   "cell_type": "code",
   "execution_count": 47,
   "metadata": {},
   "outputs": [
    {
     "name": "stdout",
     "output_type": "stream",
     "text": [
      "111.0\n"
     ]
    }
   ],
   "source": [
    "a = 111.111\n",
    "print(round(a,0))"
   ]
  },
  {
   "cell_type": "code",
   "execution_count": 11,
   "metadata": {},
   "outputs": [],
   "source": [
    "def referenceDistances(sources,samplestars,imageNo):\n",
    "    \"\"\"\n",
    "    Calculate the diagonal distance between every object in samplestars.\n",
    "\n",
    "    :param sources: Table of object data\n",
    "    :param samplestars: List containing the indexs of stars\n",
    "    :param imageNo: reference image number\n",
    "    :return: List containing a list for each object, comprised of the diagonal distance between that object and every object in samplestars\n",
    "    \"\"\"\n",
    "    #referencedistances = [[]]*len(samplestars)\n",
    "    referencedistances = [[] for x in samplestars]\n",
    "    for y in range(len(samplestars)):\n",
    "        refd = []\n",
    "        for x in range(len(samplestars)):\n",
    "            refd.append(distance(sources,samplestars[y],samplestars[x],imageNo))\n",
    "        referencedistances[y] = refd #.append(distance(sources,samplestars[y],samplestars[x],imageNo))\n",
    "    \n",
    "    #astroprov.provcall([sources,samplestars,imageNo],[referencedistances],\"referenceDistances_PythonCode2PythonCode_SQ_tmpl.provn\",\"referenceDistances\")\n",
    "    return referencedistances\n"
   ]
  },
  {
   "cell_type": "code",
   "execution_count": 12,
   "metadata": {},
   "outputs": [],
   "source": [
    "def findFullDistancesPerObject(sources,objectNo):\n",
    "    \"\"\"\n",
    "    Find the diagonal distances between every object in the image.\n",
    "\n",
    "    :param sources: Table of object data\n",
    "    :param imageno: Image number\n",
    "    :return: Digonal distance between every object in the image\n",
    "    \"\"\"\n",
    "\n",
    "    fulldistances = []\n",
    "    for y in range(len(sources)):\n",
    "        fulldistances.append(distance(sources,objectNo,y)) \n",
    "    \n",
    "    #astroprov.provcall([sources,imageno],[fulldistances],\"findFullDistances_PythonCode2PythonCode_SQ_tmpl.provn\",\"findFullDistances\")\n",
    "    #fulldistances = [round(number/10,1) * 10 for number in fulldistances] # rounding can be changed by changing the mul/div\n",
    "    return fulldistances"
   ]
  },
  {
   "cell_type": "code",
   "execution_count": null,
   "metadata": {},
   "outputs": [],
   "source": [
    "# def matchAngles(allAnglesPerObject,allAngles):\n",
    "#     '''\n",
    "#     Match angle set from template image to that from target image.\n",
    "    \n",
    "#     Parameters:\n",
    "#         allAnglesPerObject (lst): Angle set from template image.\n",
    "#         allAngles (lst): Angle set from target image.\n",
    "    \n",
    "#     Returns:\n",
    "#         translationDictionary (dict): Index of objects with matching angle sets between images.\n",
    "#     '''\n",
    "    \n",
    "#     percentageForMatch = 0.9\n",
    "\n",
    "#     # keep for now, inner join on an sql table might be better... ask Age about this?\n",
    "\n",
    "#     translationDictionary = {}\n",
    "\n",
    "#     for i,obj in enumerate(allAnglesPerObject): # loop over each object's angle set\n",
    "#         oneObjectDict = {}\n",
    "#         for j,angleSet in enumerate(obj): # loop over one angle set\n",
    "#             matchLengths = []\n",
    "#             for k,ogObj in enumerate(allAngles): # loop over master angle set\n",
    "#                 result = all(elem in angleSet for elem in ogObj) # here is the problem-need to relax these constraints and change to any \n",
    "#                 #result = any(elem in angleSet for elem in ogObj) # here is the problem-need to relax these constraints and change to any \n",
    "                \n",
    "#                 if result:\n",
    "#                     if j not in oneObjectDict.items():\n",
    "#                         oneObjectDict[j] = [k]\n",
    "#                     else:\n",
    "#                         oneObjectDict[j].append(k)\n",
    "#         translationDictionary[i] = oneObjectDict\n",
    "#     return translationDictionary # values are -1 of their true values - this is accounted for later\n",
    "\n",
    "###########\n",
    "# alternate match any condition, using all instead of any - too harsh for most cases so the below function is preferred"
   ]
  },
  {
   "cell_type": "code",
   "execution_count": 65,
   "metadata": {},
   "outputs": [],
   "source": [
    "def matchAngles(allAnglesPerObject,allAngles):\n",
    "    '''\n",
    "    Match angle set from template image to that from target image.\n",
    "    \n",
    "    Parameters:\n",
    "        allAnglesPerObject (lst): Angle set from template image.\n",
    "        allAngles (lst): Angle set from target image.\n",
    "    \n",
    "    Returns:\n",
    "        translationDictionary (dict): Index of objects with matching angle sets between images.\n",
    "    '''\n",
    "    percentageForMatch = 0.9\n",
    "\n",
    "    # keep for now, inner join on an sql table might be better... ask Age about this?\n",
    "\n",
    "    translationDictionary = {}\n",
    "\n",
    "    for i,obj in enumerate(allAnglesPerObject): # loop over each object's angle set\n",
    "        oneObjectDict = {}\n",
    "        for j,angleSet in enumerate(obj): # loop over one angle set\n",
    "            matchLengths = []\n",
    "            for k,ogObj in enumerate(allAngles): # loop over master angle set\n",
    "                #result = all(elem in angleSet for elem in ogObj) # here is the problem-need to relax these constraints and change to any \n",
    "                result = any(elem in angleSet for elem in ogObj) # here is the problem-need to relax these constraints and change to any \n",
    "                \n",
    "                if result:\n",
    "                    oneObjectDict[j] = k\n",
    "        translationDictionary[i] = oneObjectDict\n",
    "    return translationDictionary # values are -1 of their true values - this is accounted for later"
   ]
  },
  {
   "cell_type": "code",
   "execution_count": 68,
   "metadata": {},
   "outputs": [],
   "source": [
    "def confirmAngleMatchWithDistances(translationDictionary,refTab,referenceDistances,indexing):\n",
    "    '''\n",
    "    Match the distances to potential matches found thorugh angles.\n",
    "    \n",
    "    Parameters:\n",
    "        translationDictionary (dict): Indexes of potential matches across two images.\n",
    "        refTab (astropy table): Table of reference objects.\n",
    "        referenceDistances (lst): Distances between objects in refTab.\n",
    "        indexing (list): List of object indexes, correcting for astropy tables starting with an index of 1.\n",
    "        \n",
    "    Returns:\n",
    "        trueMatchDict (dict): Dictionary of indexes corresponding to matched objects.\n",
    "    '''\n",
    "    # note, this function does not included a distance tollerance and should only be used when the reference distances have been rounded\n",
    "    trueMatchDict = {}\n",
    "    potentialMatches = []\n",
    "    potentialRef = []\n",
    "    for key,value in translationDictionary.items():\n",
    "        oneMatch = []\n",
    "        oneRef = []\n",
    "        if len(value) !=0:\n",
    "            for imgNo,sampleNo in value.items():\n",
    "                objectDistance = distance(refTab,key,imgNo+1)\n",
    "                if objectDistance == referenceDistances[indexing.index(sampleNo)]:\n",
    "                    oneMatch.append(imgNo+1)\n",
    "                    oneRef.append(sampleNo)\n",
    "        potentialMatches.append(oneMatch)\n",
    "        potentialRef.append(oneRef)\n",
    "\n",
    "    listLengths = [len(x) for x in potentialMatches]\n",
    "    bestMatch = max(listLengths)\n",
    "    bestMatch = [i for i,j in enumerate(listLengths) if j==bestMatch]\n",
    "    if len(bestMatch) > 1:\n",
    "        print('Currently {} potentail candidates, choosing the first'.format(len(bestMatch)))\n",
    "    trueMatchDict[0] = bestMatch[0]\n",
    "    for x in range(len(potentialMatches[bestMatch[0]])):\n",
    "        trueMatchDict[potentialRef[bestMatch[0]][x]] = potentialMatches[bestMatch[0]][x]\n",
    "    return trueMatchDict"
   ]
  },
  {
   "cell_type": "code",
   "execution_count": 82,
   "metadata": {},
   "outputs": [],
   "source": [
    "def confirmAngleMatchWithDistances(translationDictionary,refTab,referenceDistances,indexing,closeness=10):\n",
    "    '''\n",
    "    Match the distances to potential matches found thorugh angles with a tollerance.\n",
    "    \n",
    "    Parameters:\n",
    "        translationDictionary (dict): Indexes of potential matches across two images.\n",
    "        refTab (astropy table): Table of reference objects.\n",
    "        referenceDistances (lst): Distances between objects in refTab.\n",
    "        indexing (list): List of object indexes, correcting for astropy tables starting with an index of 1.\n",
    "        closeness (int): Distance tollerance for two objects to be considered the same.\n",
    "        \n",
    "    Returns:\n",
    "        trueMatchDict (dict): Dictionary of indexes corresponding to matched objects.\n",
    "    '''\n",
    "    trueMatchDict = {}\n",
    "    potentialMatches = []\n",
    "    potentialRef = []\n",
    "    for key,value in translationDictionary.items():\n",
    "        oneMatch = []\n",
    "        oneRef = []\n",
    "        if len(value) !=0:\n",
    "            for imgNo,sampleNo in value.items():\n",
    "                oneMatchSlim = []\n",
    "                oneRefSlim = []\n",
    "                for number in sampleNo:\n",
    "                    objectDistance = distance(refTab,key,imgNo)\n",
    "                    refDist = referenceDistances[indexing.index(number)]\n",
    "                    if objectDistance > (refDist-closeness) and objectDistance < (refDist+closeness):\n",
    "                        oneMatchSlim.append(imgNo)\n",
    "                        oneRefSlim.append(number)\n",
    "                if len(oneMatchSlim) > 1:\n",
    "                    print('Object {} Matches for candidates: {}, choosing {}'.format(imgNo,oneMatchSlim,oneMatchSlim[0]))\n",
    "                    oneMatch.append(oneMatchSlim[0])\n",
    "                    oneRefSlim.append(oneRefSlim[0])\n",
    "                elif len(oneMatchSlim) > 0:\n",
    "                    oneMatch.append(oneMatchSlim[0])\n",
    "                    oneRefSlim.append(oneRefSlim[0])\n",
    "\n",
    "        potentialMatches.append(oneMatch)\n",
    "        potentialRef.append(oneRef)\n",
    "    \n",
    "    listLengths = [len(x) for x in potentialMatches]\n",
    "    bestMatch = max(listLengths)\n",
    "    bestMatch = [i for i,j in enumerate(listLengths) if j==bestMatch]\n",
    "    if len(bestMatch) > 1:\n",
    "        print('Currently {} potentail candidates, choosing the first'.format(len(bestMatch)))\n",
    "    trueMatchDict[0] = bestMatch[0]\n",
    "    print(bestMatch)\n",
    "    print(potentialMatches)\n",
    "    for x in range(len(potentialMatches[bestMatch[0]])):\n",
    "        trueMatchDict[potentialRef[bestMatch[0]][x]] = potentialMatches[bestMatch[0]][x]\n",
    "    return trueMatchDict"
   ]
  },
  {
   "cell_type": "code",
   "execution_count": 84,
   "metadata": {},
   "outputs": [],
   "source": [
    "def molePositions2Tab(molePositions):\n",
    "    '''\n",
    "    Create dataframe of mole x and y positions with upper and lower bounds for easy cross-matching.\n",
    "    \n",
    "    Parameters:\n",
    "        molePositions (str): Name of DS9 region file containing mole positions.\n",
    "        \n",
    "    Returns:\n",
    "        refPandasNew (pandas dataframe): Dataframe containing mole locations and upper/lower bounds.\n",
    "    '''\n",
    "    \n",
    "    with open(molePositions,'r') as f:\n",
    "        data = f.readlines()\n",
    "\n",
    "    ycoord = []\n",
    "    xcoord = []\n",
    "    starLocations = []\n",
    "    for x in data:\n",
    "        if 'circle(' in x:\n",
    "            locator1 = '('\n",
    "            locator2 = ','\n",
    "            loc1 = x.index(locator1) +1\n",
    "            #print(x)\n",
    "            loc2 = x[loc1:].index(locator2) + loc1 +1\n",
    "            loc3 = x[loc2:].index(locator2) + loc2\n",
    "            xcoord.append(x[loc1:loc2-1])\n",
    "            ycoord.append(x[loc2:loc3])\n",
    "            #starLocations.append([float(xcoord),float(ycoord)])\n",
    "    tollerance = 10\n",
    "\n",
    "    xUpper = [float(x) + tollerance for x in xcoord]\n",
    "    xLower = [float(x) - tollerance for x in xcoord]\n",
    "    yUpper = [float(x) + tollerance for x in ycoord]\n",
    "    yLower = [float(x) - tollerance for x in ycoord]\n",
    "\n",
    "    refDict = {'index':range(len(xcoord)),'xcoord':xcoord,'ycoord':ycoord,'xUpper':xUpper,'xLower':xLower,\n",
    "              'yUpper':yUpper,'yLower':yLower}\n",
    "    refPandasNew = pd.DataFrame(data=refDict)\n",
    "    return refPandasNew"
   ]
  },
  {
   "cell_type": "code",
   "execution_count": 17,
   "metadata": {},
   "outputs": [],
   "source": [
    "def assessQuality(output,sqlQuery,refPandasNew):\n",
    "    '''\n",
    "    Match tables of objects found between two images to determine if the matching was good.\n",
    "    \n",
    "    Parameters:\n",
    "        output (astropy table): Table of objects found in original image.\n",
    "        sqlQuery (str): SQL command join the two tables.\n",
    "        refPandasNew (pandas dataframe): Dataframe of objects found via the matching algorithm.\n",
    "    \n",
    "    Returns:\n",
    "        newdf (pandas dataframe): Matched objects the two input sources.\n",
    "    '''\n",
    "    pandasTable = Table.to_pandas(output)\n",
    "    newdf = ps.sqldf(sqlQuery,locals())\n",
    "    objectIndexes = newdf['index'].tolist()\n",
    "    oldIndexes = refPandasNew['index'].tolist()\n",
    "    objectsNotFound = [x for x in oldIndexes if x not in objectIndexes]\n",
    "    if len(objectsNotFound) != 0:\n",
    "        print('Warning: Reference object(s) with indexes {} not found in original table, Excluding them from calculation'.format(objectsNotFound))\n",
    "    return newdf"
   ]
  },
  {
   "cell_type": "code",
   "execution_count": 18,
   "metadata": {},
   "outputs": [],
   "source": [
    "sqlcode = '''\n",
    "SELECT *\n",
    "FROM pandasTable\n",
    "JOIN refPandasNew\n",
    "ON pandasTable.X_IMAGE < refPandasNew.xUpper\n",
    "AND pandasTable.X_IMAGE > refPandasNew.xLower\n",
    "AND pandasTable.Y_IMAGE < refPandasNew.yUpper\n",
    "AND pandasTable.Y_IMAGE > refPandasNew.yLower\n",
    "'''\n",
    "# sql code for matching objects, currently querying through pandas dataframes which is horrible for memory and\n",
    "# timing. To improve this, put all of this processing into queries over Apache Spark dataframes instead. "
   ]
  },
  {
   "cell_type": "code",
   "execution_count": 85,
   "metadata": {},
   "outputs": [],
   "source": [
    "refPandasNew = molePositions2Tab('/home/mj1e16/moleGazer/Photos/F/fitsImages/16bit/inputRegions29018.reg')"
   ]
  },
  {
   "cell_type": "code",
   "execution_count": 86,
   "metadata": {},
   "outputs": [
    {
     "name": "stdout",
     "output_type": "stream",
     "text": [
      "Warning: Reference object(s) with indexes [1, 3, 5, 6, 12] not found in original table, Excluding them from calculation\n"
     ]
    }
   ],
   "source": [
    "targetMoles = assessQuality(refTab,sqlcode,refPandasNew)"
   ]
  },
  {
   "cell_type": "code",
   "execution_count": 87,
   "metadata": {},
   "outputs": [],
   "source": [
    "targetMolesAstropy = Table.from_pandas(targetMoles)"
   ]
  },
  {
   "cell_type": "code",
   "execution_count": 96,
   "metadata": {},
   "outputs": [],
   "source": [
    "ascii.write(targetMolesAstropy,'./testSampleTable.tab',format='csv')"
   ]
  },
  {
   "cell_type": "code",
   "execution_count": 95,
   "metadata": {},
   "outputs": [
    {
     "data": {
      "text/plain": [
       "[8, 11, 15, 16, 17, 19, 21, 28, 38, 41, 42, 45, 48, 53]"
      ]
     },
     "execution_count": 95,
     "metadata": {},
     "output_type": "execute_result"
    }
   ],
   "source": [
    "targetMolesAstropy['NUMBER'].tolist()"
   ]
  },
  {
   "cell_type": "code",
   "execution_count": 89,
   "metadata": {},
   "outputs": [],
   "source": [
    "#testSources = findTestSources([refTab],0,10000,0,10000,0)"
   ]
  },
  {
   "cell_type": "code",
   "execution_count": 90,
   "metadata": {},
   "outputs": [],
   "source": [
    "# targetMoles = [44,37,35,34,40,41,20,16,15,14,10]\n",
    "# targetMolesReal = [x+1 for x in targetMoles] \n",
    "# fullListofObjects = range(len(refTab))\n",
    "# toBeRemoved = [x for x in fullListofObjects if x not in targetMoles]\n",
    "# #print(len(fullListofObjects),len(toBeRemoved),len(testSources))\n",
    "# refTab.remove_rows(toBeRemoved)\n",
    "# sampleStars = refTab\n",
    "# refTab = Table.read('/home/mj1e16/moleGazer/Photos/F/fitsImages/simMolePos/29018InvertedAverageCropped166.44444444444_21.8421052632_gauss_5.0_9x9.conv.cat',format='ascii.sextractor')"
   ]
  },
  {
   "cell_type": "code",
   "execution_count": 91,
   "metadata": {},
   "outputs": [],
   "source": [
    "allAngles = findAllAnglesPerStar(targetMolesAstropy,0) # all angles between master and sample stars\n",
    "#allAngles = findAllAnglesPerStar(sampleStars,0) # all angles between master and sample stars\n",
    "\n",
    "allAnglesPerObject = [] # nested list - each list represents one star chosen as the master star and the values within it are the angles between each other star\n",
    "for x in range(len(refTab)):\n",
    "    allAnglesPerObject.append(findAllAnglesPerStar(refTab,x))\n"
   ]
  },
  {
   "cell_type": "code",
   "execution_count": 92,
   "metadata": {},
   "outputs": [],
   "source": [
    "translationDict = matchAngles(allAnglesPerObject,allAngles)"
   ]
  },
  {
   "cell_type": "code",
   "execution_count": 93,
   "metadata": {},
   "outputs": [],
   "source": [
    "# referenceDistances = []\n",
    "# indexing = []\n",
    "# for x in range(1,len(sampleStars)):\n",
    "#     referenceDistances.append(distance(sampleStars,0,x))\n",
    "#     indexing.append(x-1)\n",
    "\n",
    "referenceDistances = []\n",
    "indexing = []\n",
    "for x in range(len(targetMolesAstropy)):\n",
    "    referenceDistances.append(distance(targetMolesAstropy,0,x))\n",
    "    indexing.append(x)"
   ]
  },
  {
   "cell_type": "code",
   "execution_count": 94,
   "metadata": {},
   "outputs": [
    {
     "name": "stdout",
     "output_type": "stream",
     "text": [
      "[10]\n",
      "[[28, 38, 45], [], [21, 23, 26], [32, 47, 48], [32, 48], [34, 35, 37, 44, 51], [10, 39, 40, 41, 42, 43], [32, 43, 46, 47, 48], [15], [], [9, 10, 33, 34, 35, 36, 44], [], [], [24], [], [], [], [], [], [], [20, 24], [21], [], [2], [24], [], [], [12], [0], [], [], [47], [3, 4, 7, 41], [10], [5, 10], [5, 10], [5, 10, 37], [5], [0, 23], [3, 6, 26, 30], [6, 21, 37, 43], [6, 37], [0, 42], [], [5, 10, 51], [0], [3, 29, 36], [36], [3, 4, 7, 50], [], [], [5], [0]]\n"
     ]
    },
    {
     "ename": "IndexError",
     "evalue": "list index out of range",
     "output_type": "error",
     "traceback": [
      "\u001b[0;31m---------------------------------------------------------------------------\u001b[0m",
      "\u001b[0;31mIndexError\u001b[0m                                Traceback (most recent call last)",
      "\u001b[0;32m<ipython-input-94-d5323088e557>\u001b[0m in \u001b[0;36m<module>\u001b[0;34m()\u001b[0m\n\u001b[0;32m----> 1\u001b[0;31m \u001b[0mnewtrueMatchDict\u001b[0m \u001b[0;34m=\u001b[0m \u001b[0mconfirmAngleMatchWithDistances\u001b[0m\u001b[0;34m(\u001b[0m\u001b[0mtranslationDict\u001b[0m\u001b[0;34m,\u001b[0m\u001b[0mrefTab\u001b[0m\u001b[0;34m,\u001b[0m\u001b[0mreferenceDistances\u001b[0m\u001b[0;34m,\u001b[0m\u001b[0mindexing\u001b[0m\u001b[0;34m,\u001b[0m\u001b[0mcloseness\u001b[0m\u001b[0;34m=\u001b[0m\u001b[0;36m50\u001b[0m\u001b[0;34m)\u001b[0m\u001b[0;34m\u001b[0m\u001b[0m\n\u001b[0m",
      "\u001b[0;32m<ipython-input-82-d915b31863d7>\u001b[0m in \u001b[0;36mconfirmAngleMatchWithDistances\u001b[0;34m(translationDictionary, refTab, referenceDistances, indexing, closeness)\u001b[0m\n\u001b[1;32m     36\u001b[0m     \u001b[0;32mprint\u001b[0m\u001b[0;34m(\u001b[0m\u001b[0mpotentialMatches\u001b[0m\u001b[0;34m)\u001b[0m\u001b[0;34m\u001b[0m\u001b[0m\n\u001b[1;32m     37\u001b[0m     \u001b[0;32mfor\u001b[0m \u001b[0mx\u001b[0m \u001b[0;32min\u001b[0m \u001b[0mrange\u001b[0m\u001b[0;34m(\u001b[0m\u001b[0mlen\u001b[0m\u001b[0;34m(\u001b[0m\u001b[0mpotentialMatches\u001b[0m\u001b[0;34m[\u001b[0m\u001b[0mbestMatch\u001b[0m\u001b[0;34m[\u001b[0m\u001b[0;36m0\u001b[0m\u001b[0;34m]\u001b[0m\u001b[0;34m]\u001b[0m\u001b[0;34m)\u001b[0m\u001b[0;34m)\u001b[0m\u001b[0;34m:\u001b[0m\u001b[0;34m\u001b[0m\u001b[0m\n\u001b[0;32m---> 38\u001b[0;31m         \u001b[0mtrueMatchDict\u001b[0m\u001b[0;34m[\u001b[0m\u001b[0mpotentialRef\u001b[0m\u001b[0;34m[\u001b[0m\u001b[0mbestMatch\u001b[0m\u001b[0;34m[\u001b[0m\u001b[0;36m0\u001b[0m\u001b[0;34m]\u001b[0m\u001b[0;34m]\u001b[0m\u001b[0;34m[\u001b[0m\u001b[0mx\u001b[0m\u001b[0;34m]\u001b[0m\u001b[0;34m]\u001b[0m \u001b[0;34m=\u001b[0m \u001b[0mpotentialMatches\u001b[0m\u001b[0;34m[\u001b[0m\u001b[0mbestMatch\u001b[0m\u001b[0;34m[\u001b[0m\u001b[0;36m0\u001b[0m\u001b[0;34m]\u001b[0m\u001b[0;34m]\u001b[0m\u001b[0;34m[\u001b[0m\u001b[0mx\u001b[0m\u001b[0;34m]\u001b[0m\u001b[0;34m\u001b[0m\u001b[0m\n\u001b[0m\u001b[1;32m     39\u001b[0m     \u001b[0;32mreturn\u001b[0m \u001b[0mtrueMatchDict\u001b[0m\u001b[0;34m\u001b[0m\u001b[0m\n",
      "\u001b[0;31mIndexError\u001b[0m: list index out of range"
     ]
    }
   ],
   "source": [
    "newtrueMatchDict = confirmAngleMatchWithDistances(translationDict,refTab,referenceDistances,indexing,closeness=50)"
   ]
  },
  {
   "cell_type": "code",
   "execution_count": 63,
   "metadata": {},
   "outputs": [
    {
     "data": {
      "text/plain": [
       "{0: 2, 10: 29, 11: 48}"
      ]
     },
     "execution_count": 63,
     "metadata": {},
     "output_type": "execute_result"
    }
   ],
   "source": [
    "newtrueMatchDict"
   ]
  },
  {
   "cell_type": "code",
   "execution_count": 66,
   "metadata": {},
   "outputs": [
    {
     "data": {
      "text/plain": [
       "{7: 0,\n",
       " 8: 11,\n",
       " 9: 9,\n",
       " 10: 1,\n",
       " 11: 1,\n",
       " 12: 3,\n",
       " 13: 10,\n",
       " 14: 11,\n",
       " 15: 11,\n",
       " 16: 11,\n",
       " 17: 1,\n",
       " 18: 10,\n",
       " 19: 3,\n",
       " 20: 11,\n",
       " 21: 11,\n",
       " 22: 3,\n",
       " 23: 10,\n",
       " 24: 11,\n",
       " 25: 11,\n",
       " 26: 9,\n",
       " 27: 10,\n",
       " 28: 3,\n",
       " 29: 3,\n",
       " 30: 11,\n",
       " 31: 9,\n",
       " 32: 10,\n",
       " 33: 10,\n",
       " 34: 10,\n",
       " 35: 3,\n",
       " 36: 11,\n",
       " 37: 11,\n",
       " 38: 10,\n",
       " 39: 11,\n",
       " 40: 10,\n",
       " 41: 10,\n",
       " 42: 9,\n",
       " 43: 9,\n",
       " 44: 3,\n",
       " 45: 11,\n",
       " 46: 11,\n",
       " 47: 9,\n",
       " 48: 3,\n",
       " 49: 3,\n",
       " 50: 10,\n",
       " 51: 11}"
      ]
     },
     "execution_count": 66,
     "metadata": {},
     "output_type": "execute_result"
    }
   ],
   "source": [
    "translationDict[0]"
   ]
  },
  {
   "cell_type": "code",
   "execution_count": null,
   "metadata": {},
   "outputs": [],
   "source": []
  }
 ],
 "metadata": {
  "kernelspec": {
   "display_name": "Python 3",
   "language": "python",
   "name": "python3"
  },
  "language_info": {
   "codemirror_mode": {
    "name": "ipython",
    "version": 2
   },
   "file_extension": ".py",
   "mimetype": "text/x-python",
   "name": "python",
   "nbconvert_exporter": "python",
   "pygments_lexer": "ipython2",
   "version": "2.7.12"
  }
 },
 "nbformat": 4,
 "nbformat_minor": 2
}
