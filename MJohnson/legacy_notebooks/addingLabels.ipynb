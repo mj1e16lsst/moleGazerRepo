{
 "cells": [
  {
   "cell_type": "code",
   "execution_count": 1,
   "metadata": {},
   "outputs": [],
   "source": [
    "import os"
   ]
  },
  {
   "cell_type": "code",
   "execution_count": 11,
   "metadata": {},
   "outputs": [],
   "source": [
    "with open('/home/mj1e16/moleGazer/Photos/F/fitsImages/29015.reg','r') as f:\n",
    "    data = f.readlines()\n",
    "\n",
    "x = 0\n",
    "newData = []\n",
    "for line in data:\n",
    "    x += 1\n",
    "    if 'circle(' in line:\n",
    "        loc = line.index('\\n')\n",
    "        line = line[:loc] + '# text={'+str(x)+'}'+line[loc:]\n",
    "    newData.append(line)\n",
    "    \n",
    "with open('/home/mj1e16/moleGazer/Photos/F/fitsImages/29015Labelled.reg','w') as f:\n",
    "    f.writelines(newData)"
   ]
  },
  {
   "cell_type": "code",
   "execution_count": null,
   "metadata": {},
   "outputs": [],
   "source": []
  }
 ],
 "metadata": {
  "kernelspec": {
   "display_name": "Python 3",
   "language": "python",
   "name": "python3"
  },
  "language_info": {
   "codemirror_mode": {
    "name": "ipython",
    "version": 2
   },
   "file_extension": ".py",
   "mimetype": "text/x-python",
   "name": "python",
   "nbconvert_exporter": "python",
   "pygments_lexer": "ipython2",
   "version": "2.7.12"
  }
 },
 "nbformat": 4,
 "nbformat_minor": 2
}
