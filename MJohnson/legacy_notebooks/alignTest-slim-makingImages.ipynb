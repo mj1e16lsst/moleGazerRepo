{
 "cells": [
  {
   "cell_type": "code",
   "execution_count": 58,
   "metadata": {},
   "outputs": [],
   "source": [
    "import os\n",
    "import numpy as np\n",
    "from PIL import Image\n",
    "import PIL.ImageOps    \n",
    "from astropy.io import fits\n",
    "from astropy.table import Table\n",
    "\n",
    "import matplotlib.pyplot as plt\n",
    "from astropy.visualization import astropy_mpl_style\n",
    "import image_registration\n",
    "from astropy.nddata import Cutout2D\n",
    "from astropy import units as u\n",
    "import matplotlib.image as mpimg\n",
    "\n",
    "from __future__ import print_function\n",
    "#import cv2\n",
    "import numpy as np\n",
    "\n",
    "#from photutils import DAOStarFinder\n",
    "#from photutils import CircularAperture\n",
    "#from photutils import aperture_photometry\n",
    "\n",
    "from astropy.stats import sigma_clipped_stats\n",
    "\n",
    "from astropy.visualization import SqrtStretch\n",
    "from astropy.visualization.mpl_normalize import ImageNormalize\n",
    "\n",
    " \n",
    "import pandas as pd\n",
    "import pandasql as ps\n",
    "plt.style.use(astropy_mpl_style)\n",
    "\n",
    "# from regions.core import PixCoord\n",
    "# from regions.shapes.circle import CirclePixelRegion\n",
    "import scipy.misc\n",
    "import time\n",
    "\n",
    "from mpl_toolkits.mplot3d import Axes3D  # noqa: F401 unused import\n"
   ]
  },
  {
   "cell_type": "code",
   "execution_count": 57,
   "metadata": {},
   "outputs": [
    {
     "name": "stdout",
     "output_type": "stream",
     "text": [
      "The history saving thread hit an unexpected error (OperationalError('database or disk is full',)).History will not be written to the database.\n"
     ]
    }
   ],
   "source": [
    "def makeFits(inName,imageExtension='.jpg'):\n",
    "    image = Image.open(inName)\n",
    "    xsize, ysize = image.size\n",
    "    print(\"Image size: {} x {}\".format(xsize, ysize))\n",
    "    # plt.imshow(image)\n",
    "\n",
    "    r, g, b = image.split()\n",
    "    r_data = np.array(r.getdata()) # data is now an array of length ysize*xsize\n",
    "    g_data = np.array(g.getdata())\n",
    "    b_data = np.array(b.getdata())\n",
    "    print(r_data.shape)\n",
    "\n",
    "    r_data = r_data.reshape(ysize, xsize)[::-1]\n",
    "    g_data = g_data.reshape(ysize, xsize)[::-1]\n",
    "    b_data = b_data.reshape(ysize, xsize)[::-1]\n",
    "    \n",
    "    print(inName)\n",
    "    inName = inName.replace(imageExtension,'')\n",
    "    print(inName)\n",
    "    try:\n",
    "        os.remove(inName+\"red.fits\")\n",
    "        os.remove(inName+\"green.fits\")\n",
    "        os.remove(inName+\"blue.fits\")\n",
    "    except:\n",
    "        print(\"Can't remove as the file doesn't exist\")\n",
    "\n",
    "    red = fits.PrimaryHDU(r_data)\n",
    "    hdur = fits.HDUList([red])\n",
    "    hdur.writeto(inName+'red.fits')\n",
    "    \n",
    "    green = fits.PrimaryHDU(g_data)\n",
    "    hdug = fits.HDUList([green])\n",
    "    hdug.writeto(inName+'green.fits')\n",
    "\n",
    "    blue = fits.PrimaryHDU(b_data)\n",
    "    hdub = fits.HDUList([blue])\n",
    "    hdub.writeto(inName+'blue.fits')"
   ]
  },
  {
   "cell_type": "code",
   "execution_count": 15,
   "metadata": {},
   "outputs": [],
   "source": [
    "def saveImData(imData,name):\n",
    "    im = fits.PrimaryHDU(imData)\n",
    "    hdub = fits.HDUList([im])\n",
    "    hdub.writeto(name)"
   ]
  },
  {
   "cell_type": "code",
   "execution_count": 22,
   "metadata": {},
   "outputs": [],
   "source": [
    "def getImageData(imageName,extension):\n",
    "    hdu = fits.open(imageName)\n",
    "    imageData = hdu[extension].data\n",
    "    return imageData"
   ]
  },
  {
   "cell_type": "code",
   "execution_count": 63,
   "metadata": {},
   "outputs": [],
   "source": [
    "def backgroundSubtraction(imData):\n",
    "    for x in range(len(imData)):\n",
    "        meanVal = np.mean(imData[x])\n",
    "        meanLimit = meanVal*0.75\n",
    "        background = imData[x][imData[x]<meanLimit]\n",
    "        backGroundVal = np.mean(background) \n",
    "        imData[x] = imData[x] - backGroundVal\n",
    "        imData[imData < 0] = 0\n",
    "    return imData"
   ]
  },
  {
   "cell_type": "code",
   "execution_count": 29,
   "metadata": {},
   "outputs": [],
   "source": [
    "def makeAverageImage(redimage,blueimage,greenimage):\n",
    "    moleImage = (redimage+blueimage+greenimage)/3\n",
    "    return moleImage\n"
   ]
  },
  {
   "cell_type": "code",
   "execution_count": 30,
   "metadata": {},
   "outputs": [
    {
     "name": "stdout",
     "output_type": "stream",
     "text": [
      "/home/mj1e16/moleGazer/Photos/F/29018Invertedblue\n"
     ]
    }
   ],
   "source": [
    "im = '/home/mj1e16/moleGazer/Photos/F/29018Invertedblue.fits'\n",
    "loc1 = im.index('.fits')\n",
    "print(im[:loc1])"
   ]
  },
  {
   "cell_type": "code",
   "execution_count": 66,
   "metadata": {},
   "outputs": [],
   "source": [
    "def combineMakeImage(imageName,inDirectory='',outPutDirectory=''):\n",
    "    imShort = imageName.replace('.jpg','')\n",
    "    \n",
    "    fitsIm = imageName.replace('.jpg','.fits')\n",
    "    imagedata = Image.open(inDirectory+imageName)\n",
    "    inverted_image = PIL.ImageOps.invert(imagedata)\n",
    "    inverted_image.save(inDirectory+imShort+'NewInverted.jpg')\n",
    "    print(inDirectory+imShort+'NewInverted.jpg')\n",
    "    makeFits(inDirectory+imShort+'NewInverted.jpg')\n",
    "    imGreen,imBlue,imRed = inDirectory+imShort+'NewInvertedgreen.fits',inDirectory+imShort+'NewInvertedblue.fits',inDirectory+imShort+'NewInvertedred.fits'\n",
    "    \n",
    "    redIm = getImageData(imRed,0)\n",
    "    blueIm = getImageData(imBlue,0)\n",
    "    greenIm = getImageData(imGreen,0)\n",
    "    avIm = makeAverageImage(redIm,blueIm,greenIm)\n",
    "    bsAvIm = avIm #backgroundSubtraction(avIm)\n",
    "    try:\n",
    "        os.remove(outPutDirectory+imShort+'InvertedAverage.fits')\n",
    "    except:\n",
    "        print(\"Can't remove {} as the file doesn't exist\".format(outPutDirectory+imShort+'InvertedAverage.fits'))\n",
    "    saveImData(bsAvIm,outPutDirectory+imShort+'InvertedAverage.fits')"
   ]
  },
  {
   "cell_type": "code",
   "execution_count": 60,
   "metadata": {},
   "outputs": [
    {
     "name": "stdout",
     "output_type": "stream",
     "text": [
      "79941.jpg\n"
     ]
    }
   ],
   "source": [
    "print(inputFinal[4])"
   ]
  },
  {
   "cell_type": "code",
   "execution_count": null,
   "metadata": {},
   "outputs": [],
   "source": [
    "imdata = getImageData"
   ]
  },
  {
   "cell_type": "code",
   "execution_count": 67,
   "metadata": {},
   "outputs": [
    {
     "name": "stdout",
     "output_type": "stream",
     "text": [
      "/home/mj1e16/moleGazer/Photos/F/79941NewInverted.jpg\n",
      "Image size: 2477 x 3800\n",
      "(9412600,)\n",
      "/home/mj1e16/moleGazer/Photos/F/79941NewInverted.jpg\n",
      "/home/mj1e16/moleGazer/Photos/F/79941NewInverted\n"
     ]
    }
   ],
   "source": [
    "combineMakeImage(inputFinal[4],inDirectory='/home/mj1e16/moleGazer/Photos/F/',outPutDirectory='/home/mj1e16/moleGazer/Photos/F/fitsImages/')"
   ]
  },
  {
   "cell_type": "code",
   "execution_count": 53,
   "metadata": {},
   "outputs": [],
   "source": [
    "inputImages = os.listdir('/home/mj1e16/moleGazer/Photos/F/')\n",
    "inputRefined = [x for x in inputImages if 'Inverted' not in x]\n",
    "inputFinal = [x for x in inputRefined if '.jpg' in x]\n",
    "inputFinal = [x for x in inputFinal if x !='aligned.jpg']"
   ]
  },
  {
   "cell_type": "code",
   "execution_count": 54,
   "metadata": {},
   "outputs": [
    {
     "data": {
      "text/plain": [
       "['29007.jpg',\n",
       " '79945.jpg',\n",
       " '29006.jpg',\n",
       " '29011.jpg',\n",
       " '79941.jpg',\n",
       " '29008.jpg',\n",
       " '29014.jpg',\n",
       " '79940.jpg',\n",
       " '29013.jpg',\n",
       " '79947.jpg',\n",
       " '29024.jpg',\n",
       " '29015.jpg',\n",
       " '79946.jpg',\n",
       " '29023.jpg',\n",
       " '79949.jpg',\n",
       " '29017.jpg',\n",
       " '29019.jpg',\n",
       " '29022.jpg',\n",
       " '29012.jpg',\n",
       " '79948.jpg',\n",
       " '79942.jpg',\n",
       " '29010.jpg',\n",
       " '79943.jpg',\n",
       " '29005.jpg',\n",
       " '29016.jpg',\n",
       " '29009.jpg',\n",
       " '29021.jpg',\n",
       " '79952.jpg',\n",
       " '29020.jpg',\n",
       " '79953.jpg',\n",
       " '79944.jpg',\n",
       " '79951.jpg',\n",
       " '79950.jpg',\n",
       " '29018.jpg']"
      ]
     },
     "execution_count": 54,
     "metadata": {},
     "output_type": "execute_result"
    }
   ],
   "source": [
    "inputFinal"
   ]
  },
  {
   "cell_type": "code",
   "execution_count": 68,
   "metadata": {},
   "outputs": [
    {
     "name": "stdout",
     "output_type": "stream",
     "text": [
      "/home/mj1e16/moleGazer/Photos/F/29007NewInverted.jpg\n",
      "Image size: 3800 x 2599\n",
      "(9876200,)\n",
      "/home/mj1e16/moleGazer/Photos/F/29007NewInverted.jpg\n",
      "/home/mj1e16/moleGazer/Photos/F/29007NewInverted\n",
      "/home/mj1e16/moleGazer/Photos/F/79945NewInverted.jpg\n",
      "Image size: 2477 x 3800\n",
      "(9412600,)\n",
      "/home/mj1e16/moleGazer/Photos/F/79945NewInverted.jpg\n",
      "/home/mj1e16/moleGazer/Photos/F/79945NewInverted\n",
      "/home/mj1e16/moleGazer/Photos/F/29006NewInverted.jpg\n",
      "Image size: 3800 x 2609\n",
      "(9914200,)\n",
      "/home/mj1e16/moleGazer/Photos/F/29006NewInverted.jpg\n",
      "/home/mj1e16/moleGazer/Photos/F/29006NewInverted\n",
      "/home/mj1e16/moleGazer/Photos/F/29011NewInverted.jpg\n",
      "Image size: 2490 x 3800\n",
      "(9462000,)\n",
      "/home/mj1e16/moleGazer/Photos/F/29011NewInverted.jpg\n",
      "/home/mj1e16/moleGazer/Photos/F/29011NewInverted\n",
      "/home/mj1e16/moleGazer/Photos/F/79941NewInverted.jpg\n",
      "Image size: 2477 x 3800\n",
      "(9412600,)\n",
      "/home/mj1e16/moleGazer/Photos/F/79941NewInverted.jpg\n",
      "/home/mj1e16/moleGazer/Photos/F/79941NewInverted\n",
      "/home/mj1e16/moleGazer/Photos/F/29008NewInverted.jpg\n",
      "Image size: 3800 x 2622\n",
      "(9963600,)\n",
      "/home/mj1e16/moleGazer/Photos/F/29008NewInverted.jpg\n",
      "/home/mj1e16/moleGazer/Photos/F/29008NewInverted\n",
      "/home/mj1e16/moleGazer/Photos/F/29014NewInverted.jpg\n",
      "Image size: 2490 x 3800\n",
      "(9462000,)\n",
      "/home/mj1e16/moleGazer/Photos/F/29014NewInverted.jpg\n",
      "/home/mj1e16/moleGazer/Photos/F/29014NewInverted\n",
      "/home/mj1e16/moleGazer/Photos/F/79940NewInverted.jpg\n",
      "Image size: 2477 x 3800\n",
      "(9412600,)\n",
      "/home/mj1e16/moleGazer/Photos/F/79940NewInverted.jpg\n",
      "/home/mj1e16/moleGazer/Photos/F/79940NewInverted\n",
      "/home/mj1e16/moleGazer/Photos/F/29013NewInverted.jpg\n",
      "Image size: 2490 x 3800\n",
      "(9462000,)\n",
      "/home/mj1e16/moleGazer/Photos/F/29013NewInverted.jpg\n",
      "/home/mj1e16/moleGazer/Photos/F/29013NewInverted\n",
      "/home/mj1e16/moleGazer/Photos/F/79947NewInverted.jpg\n",
      "Image size: 1694 x 3800\n",
      "(6437200,)\n",
      "/home/mj1e16/moleGazer/Photos/F/79947NewInverted.jpg\n",
      "/home/mj1e16/moleGazer/Photos/F/79947NewInverted\n",
      "/home/mj1e16/moleGazer/Photos/F/29024NewInverted.jpg\n",
      "Image size: 3800 x 2599\n",
      "(9876200,)\n",
      "/home/mj1e16/moleGazer/Photos/F/29024NewInverted.jpg\n",
      "/home/mj1e16/moleGazer/Photos/F/29024NewInverted\n",
      "/home/mj1e16/moleGazer/Photos/F/29015NewInverted.jpg\n",
      "Image size: 1155 x 3800\n",
      "(4389000,)\n",
      "/home/mj1e16/moleGazer/Photos/F/29015NewInverted.jpg\n",
      "/home/mj1e16/moleGazer/Photos/F/29015NewInverted\n",
      "/home/mj1e16/moleGazer/Photos/F/79946NewInverted.jpg\n",
      "Image size: 1694 x 3800\n",
      "(6437200,)\n",
      "/home/mj1e16/moleGazer/Photos/F/79946NewInverted.jpg\n",
      "/home/mj1e16/moleGazer/Photos/F/79946NewInverted\n",
      "/home/mj1e16/moleGazer/Photos/F/29023NewInverted.jpg\n",
      "Image size: 3800 x 2599\n",
      "(9876200,)\n",
      "/home/mj1e16/moleGazer/Photos/F/29023NewInverted.jpg\n",
      "/home/mj1e16/moleGazer/Photos/F/29023NewInverted\n",
      "/home/mj1e16/moleGazer/Photos/F/79949NewInverted.jpg\n",
      "Image size: 1694 x 3800\n",
      "(6437200,)\n",
      "/home/mj1e16/moleGazer/Photos/F/79949NewInverted.jpg\n",
      "/home/mj1e16/moleGazer/Photos/F/79949NewInverted\n",
      "/home/mj1e16/moleGazer/Photos/F/29017NewInverted.jpg\n",
      "Image size: 1155 x 3800\n",
      "(4389000,)\n",
      "/home/mj1e16/moleGazer/Photos/F/29017NewInverted.jpg\n",
      "/home/mj1e16/moleGazer/Photos/F/29017NewInverted\n",
      "/home/mj1e16/moleGazer/Photos/F/29019NewInverted.jpg\n",
      "Image size: 2490 x 3800\n",
      "(9462000,)\n",
      "/home/mj1e16/moleGazer/Photos/F/29019NewInverted.jpg\n",
      "/home/mj1e16/moleGazer/Photos/F/29019NewInverted\n",
      "/home/mj1e16/moleGazer/Photos/F/29022NewInverted.jpg\n",
      "Image size: 2490 x 3800\n",
      "(9462000,)\n",
      "/home/mj1e16/moleGazer/Photos/F/29022NewInverted.jpg\n",
      "/home/mj1e16/moleGazer/Photos/F/29022NewInverted\n",
      "/home/mj1e16/moleGazer/Photos/F/29012NewInverted.jpg\n",
      "Image size: 2490 x 3800\n",
      "(9462000,)\n",
      "/home/mj1e16/moleGazer/Photos/F/29012NewInverted.jpg\n",
      "/home/mj1e16/moleGazer/Photos/F/29012NewInverted\n",
      "/home/mj1e16/moleGazer/Photos/F/79948NewInverted.jpg\n",
      "Image size: 1694 x 3800\n",
      "(6437200,)\n",
      "/home/mj1e16/moleGazer/Photos/F/79948NewInverted.jpg\n",
      "/home/mj1e16/moleGazer/Photos/F/79948NewInverted\n",
      "/home/mj1e16/moleGazer/Photos/F/79942NewInverted.jpg\n",
      "Image size: 2477 x 3800\n",
      "(9412600,)\n",
      "/home/mj1e16/moleGazer/Photos/F/79942NewInverted.jpg\n",
      "/home/mj1e16/moleGazer/Photos/F/79942NewInverted\n",
      "/home/mj1e16/moleGazer/Photos/F/29010NewInverted.jpg\n",
      "Image size: 2490 x 3800\n",
      "(9462000,)\n",
      "/home/mj1e16/moleGazer/Photos/F/29010NewInverted.jpg\n",
      "/home/mj1e16/moleGazer/Photos/F/29010NewInverted\n",
      "/home/mj1e16/moleGazer/Photos/F/79943NewInverted.jpg\n",
      "Image size: 2477 x 3800\n",
      "(9412600,)\n",
      "/home/mj1e16/moleGazer/Photos/F/79943NewInverted.jpg\n",
      "/home/mj1e16/moleGazer/Photos/F/79943NewInverted\n",
      "/home/mj1e16/moleGazer/Photos/F/29005NewInverted.jpg\n",
      "Image size: 3800 x 2599\n",
      "(9876200,)\n",
      "/home/mj1e16/moleGazer/Photos/F/29005NewInverted.jpg\n",
      "/home/mj1e16/moleGazer/Photos/F/29005NewInverted\n",
      "/home/mj1e16/moleGazer/Photos/F/29016NewInverted.jpg\n",
      "Image size: 1122 x 3800\n",
      "(4263600,)\n",
      "/home/mj1e16/moleGazer/Photos/F/29016NewInverted.jpg\n",
      "/home/mj1e16/moleGazer/Photos/F/29016NewInverted\n",
      "/home/mj1e16/moleGazer/Photos/F/29009NewInverted.jpg\n",
      "Image size: 2490 x 3800\n",
      "(9462000,)\n",
      "/home/mj1e16/moleGazer/Photos/F/29009NewInverted.jpg\n",
      "/home/mj1e16/moleGazer/Photos/F/29009NewInverted\n",
      "/home/mj1e16/moleGazer/Photos/F/29021NewInverted.jpg\n",
      "Image size: 2490 x 3800\n",
      "(9462000,)\n",
      "/home/mj1e16/moleGazer/Photos/F/29021NewInverted.jpg\n",
      "/home/mj1e16/moleGazer/Photos/F/29021NewInverted\n",
      "/home/mj1e16/moleGazer/Photos/F/79952NewInverted.jpg\n",
      "Image size: 2477 x 3800\n",
      "(9412600,)\n",
      "/home/mj1e16/moleGazer/Photos/F/79952NewInverted.jpg\n",
      "/home/mj1e16/moleGazer/Photos/F/79952NewInverted\n",
      "/home/mj1e16/moleGazer/Photos/F/29020NewInverted.jpg\n",
      "Image size: 2490 x 3800\n",
      "(9462000,)\n",
      "/home/mj1e16/moleGazer/Photos/F/29020NewInverted.jpg\n",
      "/home/mj1e16/moleGazer/Photos/F/29020NewInverted\n",
      "/home/mj1e16/moleGazer/Photos/F/79953NewInverted.jpg\n",
      "Image size: 2477 x 3800\n",
      "(9412600,)\n",
      "/home/mj1e16/moleGazer/Photos/F/79953NewInverted.jpg\n",
      "/home/mj1e16/moleGazer/Photos/F/79953NewInverted\n",
      "/home/mj1e16/moleGazer/Photos/F/79944NewInverted.jpg\n",
      "Image size: 2477 x 3800\n",
      "(9412600,)\n",
      "/home/mj1e16/moleGazer/Photos/F/79944NewInverted.jpg\n",
      "/home/mj1e16/moleGazer/Photos/F/79944NewInverted\n",
      "/home/mj1e16/moleGazer/Photos/F/79951NewInverted.jpg\n",
      "Image size: 2477 x 3800\n",
      "(9412600,)\n",
      "/home/mj1e16/moleGazer/Photos/F/79951NewInverted.jpg\n",
      "/home/mj1e16/moleGazer/Photos/F/79951NewInverted\n",
      "/home/mj1e16/moleGazer/Photos/F/79950NewInverted.jpg\n",
      "Image size: 2477 x 3800\n",
      "(9412600,)\n",
      "/home/mj1e16/moleGazer/Photos/F/79950NewInverted.jpg\n",
      "/home/mj1e16/moleGazer/Photos/F/79950NewInverted\n",
      "/home/mj1e16/moleGazer/Photos/F/29018NewInverted.jpg\n",
      "Image size: 1190 x 3800\n",
      "(4522000,)\n",
      "/home/mj1e16/moleGazer/Photos/F/29018NewInverted.jpg\n",
      "/home/mj1e16/moleGazer/Photos/F/29018NewInverted\n"
     ]
    }
   ],
   "source": [
    "for x in inputFinal:\n",
    "    combineMakeImage(x,inDirectory='/home/mj1e16/moleGazer/Photos/F/',outPutDirectory='/home/mj1e16/moleGazer/Photos/F/fitsImages/')"
   ]
  },
  {
   "cell_type": "code",
   "execution_count": 10,
   "metadata": {},
   "outputs": [
    {
     "ename": "KeyboardInterrupt",
     "evalue": "",
     "output_type": "error",
     "traceback": [
      "\u001b[0;31m---------------------------------------------------------------------------\u001b[0m",
      "\u001b[0;31mKeyboardInterrupt\u001b[0m                         Traceback (most recent call last)",
      "\u001b[0;32m<ipython-input-10-8ac8c43a970e>\u001b[0m in \u001b[0;36m<module>\u001b[0;34m()\u001b[0m\n\u001b[1;32m      3\u001b[0m \u001b[0mgreenIm\u001b[0m \u001b[0;34m=\u001b[0m \u001b[0mgetImageData\u001b[0m\u001b[0;34m(\u001b[0m\u001b[0;34m'/home/mj1e16/moleGazer/Photos/F/29018Invertedgreen.fits'\u001b[0m\u001b[0;34m,\u001b[0m\u001b[0;36m0\u001b[0m\u001b[0;34m)\u001b[0m\u001b[0;34m\u001b[0m\u001b[0m\n\u001b[1;32m      4\u001b[0m \u001b[0mavIm\u001b[0m \u001b[0;34m=\u001b[0m \u001b[0mmakeAverageImage\u001b[0m\u001b[0;34m(\u001b[0m\u001b[0mredIm\u001b[0m\u001b[0;34m,\u001b[0m\u001b[0mblueIm\u001b[0m\u001b[0;34m,\u001b[0m\u001b[0mgreenIm\u001b[0m\u001b[0;34m)\u001b[0m\u001b[0;34m\u001b[0m\u001b[0m\n\u001b[0;32m----> 5\u001b[0;31m \u001b[0mbsAvIm\u001b[0m \u001b[0;34m=\u001b[0m \u001b[0mbackgroundSubtraction\u001b[0m\u001b[0;34m(\u001b[0m\u001b[0mavIm\u001b[0m\u001b[0;34m)\u001b[0m\u001b[0;34m\u001b[0m\u001b[0m\n\u001b[0m",
      "\u001b[0;32m<ipython-input-8-977840184587>\u001b[0m in \u001b[0;36mbackgroundSubtraction\u001b[0;34m(imData)\u001b[0m\n\u001b[1;32m      6\u001b[0m         \u001b[0mbackGroundVal\u001b[0m \u001b[0;34m=\u001b[0m \u001b[0mnp\u001b[0m\u001b[0;34m.\u001b[0m\u001b[0mmean\u001b[0m\u001b[0;34m(\u001b[0m\u001b[0mbackground\u001b[0m\u001b[0;34m)\u001b[0m\u001b[0;34m\u001b[0m\u001b[0m\n\u001b[1;32m      7\u001b[0m         \u001b[0mimData\u001b[0m\u001b[0;34m[\u001b[0m\u001b[0mx\u001b[0m\u001b[0;34m]\u001b[0m \u001b[0;34m=\u001b[0m \u001b[0mimData\u001b[0m\u001b[0;34m[\u001b[0m\u001b[0mx\u001b[0m\u001b[0;34m]\u001b[0m \u001b[0;34m-\u001b[0m \u001b[0mbackGroundVal\u001b[0m\u001b[0;34m\u001b[0m\u001b[0m\n\u001b[0;32m----> 8\u001b[0;31m         \u001b[0mimData\u001b[0m\u001b[0;34m[\u001b[0m\u001b[0mimData\u001b[0m \u001b[0;34m<\u001b[0m \u001b[0;36m0\u001b[0m\u001b[0;34m]\u001b[0m \u001b[0;34m=\u001b[0m \u001b[0;36m0\u001b[0m\u001b[0;34m\u001b[0m\u001b[0m\n\u001b[0m\u001b[1;32m      9\u001b[0m     \u001b[0;32mreturn\u001b[0m \u001b[0mimData\u001b[0m\u001b[0;34m\u001b[0m\u001b[0m\n",
      "\u001b[0;31mKeyboardInterrupt\u001b[0m: "
     ]
    }
   ],
   "source": [
    "redIm = getImageData('/home/mj1e16/moleGazer/Photos/F/29018Invertedblue.fits',0)\n",
    "blueIm = getImageData('/home/mj1e16/moleGazer/Photos/F/29018Invertedblue.fits',0)\n",
    "greenIm = getImageData('/home/mj1e16/moleGazer/Photos/F/29018Invertedgreen.fits',0)\n",
    "avIm = makeAverageImage(redIm,blueIm,greenIm)\n",
    "bsAvIm = backgroundSubtraction(avIm)"
   ]
  },
  {
   "cell_type": "code",
   "execution_count": null,
   "metadata": {},
   "outputs": [],
   "source": [
    "saveImData(bsAvIm,'/home/mj1e16/moleGazer/Photos/F/29018moleAv.fits')"
   ]
  },
  {
   "cell_type": "code",
   "execution_count": 50,
   "metadata": {
    "collapsed": true
   },
   "outputs": [],
   "source": [
    "redIm = getImageData('/home/mj1e16/moleGazer/Photos/F/79948Invertedred.fits',0)\n",
    "blueIm = getImageData('/home/mj1e16/moleGazer/Photos/F/79948Invertedblue.fits',0)\n",
    "greenIm = getImageData('/home/mj1e16/moleGazer/Photos/F/79948Invertedgreen.fits',0)"
   ]
  },
  {
   "cell_type": "code",
   "execution_count": 51,
   "metadata": {},
   "outputs": [
    {
     "name": "stderr",
     "output_type": "stream",
     "text": [
      "/home/mj1e16/miniconda2/envs/astroconda/lib/python2.7/site-packages/ipykernel/__main__.py:2: RuntimeWarning: divide by zero encountered in divide\n",
      "  from ipykernel import kernelapp as app\n"
     ]
    }
   ],
   "source": [
    "moleBrightIm = makeMoleBrightImage(redIm,blueIm,greenIm)\n",
    "bsMoleIm = backgroundSubtraction(moleBrightIm) "
   ]
  },
  {
   "cell_type": "code",
   "execution_count": 80,
   "metadata": {},
   "outputs": [
    {
     "name": "stderr",
     "output_type": "stream",
     "text": [
      "/home/mj1e16/miniconda2/envs/astroconda/lib/python2.7/site-packages/ipykernel/__main__.py:3: RuntimeWarning: divide by zero encountered in true_divide\n",
      "  app.launch_new_instance()\n",
      "/home/mj1e16/miniconda2/envs/astroconda/lib/python2.7/site-packages/ipykernel/__main__.py:3: RuntimeWarning: invalid value encountered in true_divide\n",
      "  app.launch_new_instance()\n"
     ]
    }
   ],
   "source": [
    "redblue = redIm*blueIm\n",
    "greenSquared = greenIm\n",
    "moleTestIm = np.true_divide(redblue,greenSquared)\n",
    "meanImage = (redIm+greenIm+blueIm)/3\n",
    "molebrightNew = moleTestIm"
   ]
  },
  {
   "cell_type": "code",
   "execution_count": 81,
   "metadata": {},
   "outputs": [],
   "source": [
    "saveImData(molebrightNew,'/home/mj1e16/moleGazer/Photos/F/799moleBrightNormal3.fits')"
   ]
  },
  {
   "cell_type": "code",
   "execution_count": 82,
   "metadata": {
    "collapsed": true
   },
   "outputs": [],
   "source": [
    "meanImage = (redIm+greenIm+blueIm)/3\n",
    "saveImData(meanImage,'/home/mj1e16/moleGazer/Photos/F/799Mean.fits')"
   ]
  },
  {
   "cell_type": "code",
   "execution_count": 83,
   "metadata": {},
   "outputs": [],
   "source": [
    "testImageData = backgroundSubtraction(meanImage)"
   ]
  },
  {
   "cell_type": "code",
   "execution_count": 86,
   "metadata": {
    "collapsed": true
   },
   "outputs": [],
   "source": [
    "saveImData(testImageData,'/home/mj1e16/moleGazer/Photos/F/799MeanBS.fits')"
   ]
  },
  {
   "cell_type": "code",
   "execution_count": null,
   "metadata": {
    "collapsed": true
   },
   "outputs": [],
   "source": []
  }
 ],
 "metadata": {
  "kernelspec": {
   "display_name": "Python 2",
   "language": "python",
   "name": "python2"
  },
  "language_info": {
   "codemirror_mode": {
    "name": "ipython",
    "version": 2
   },
   "file_extension": ".py",
   "mimetype": "text/x-python",
   "name": "python",
   "nbconvert_exporter": "python",
   "pygments_lexer": "ipython2",
   "version": "2.7.12"
  }
 },
 "nbformat": 4,
 "nbformat_minor": 2
}
