{
 "cells": [
  {
   "cell_type": "code",
   "execution_count": 1,
   "metadata": {},
   "outputs": [],
   "source": [
    "import astroprov\n",
    "from astropy.io import fits\n",
    "from astropy.table import Table\n",
    "from astropy.io import ascii\n",
    "from astropy.stats import sigma_clipped_stats\n",
    "from astropy.coordinates import SkyCoord\n",
    "\n",
    "import matplotlib.pyplot as plt\n",
    "import numpy as np\n",
    "import os\n",
    "from regions.core import PixCoord\n",
    "from regions.shapes.circle import CirclePixelRegion\n",
    "import subprocess\n",
    "import time\n",
    "import matplotlib.text as mpl_text\n",
    "import math"
   ]
  },
  {
   "cell_type": "code",
   "execution_count": 2,
   "metadata": {},
   "outputs": [],
   "source": [
    "imageRefernce = '/home/mj1e16/moleGazer/Photos/F/29018.jpg'\n",
    "imageAlign =  '/home/mj1e16/moleGazer/Photos/F/79948.jpg'\n",
    "\n",
    "imageRefernceFits = '/home/mj1e16/moleGazer/Photos/F/fitsImages/16bit/29018InvertedAverageCropped16.fits'\n",
    "imageAlignFits =  '/home/mj1e16/moleGazer/Photos/F/fitsImages/16bit/79948InvertedAverageCropped16.fits'\n",
    "\n",
    "## max setting [6.444444444444445, 21.842105263157894, 'gauss_5.0_9x9.conv']\n",
    "\n",
    "refTab = Table.read('/home/mj1e16/moleGazer/Photos/F/fitsImages/simMolePos/29018InvertedAverageCropped166.44444444444_21.8421052632_gauss_5.0_9x9.conv.cat',format='ascii.sextractor')\n",
    "alignTab = Table.read('/home/mj1e16/moleGazer/Photos/F/fitsImages/simMolePos/79948InvertedAverageCropped166.44444444444_21.8421052632_gauss_5.0_9x9.conv.cat',format='ascii.sextractor')"
   ]
  },
  {
   "cell_type": "code",
   "execution_count": 3,
   "metadata": {},
   "outputs": [],
   "source": [
    "def makeDS9RegFile(sexTabList,fileNameBase,tabType,colour='red',radius='10'):\n",
    "    for tables in range(len(sexTabList)):\n",
    "        if tabType == 'dao':\n",
    "            xcoords = sexTabList[tables]['xcentroid']\n",
    "            ycoords = sexTabList[tables]['ycentroid']\n",
    "        elif tabType == 'sexMedian':\n",
    "            ra = sexTabList[tables]['RA']\n",
    "            dec = sexTabList[tables]['DEC']\n",
    "        elif tabType == 'sex':\n",
    "            xcoords = sexTabList[tables]['X_IMAGE']\n",
    "            ycoords = sexTabList[tables]['Y_IMAGE']\n",
    "        elif tabType == 'iraf':\n",
    "            xcoords = sexTabList[tables]['X_POS']\n",
    "            ycoords = sexTabList[tables]['Y_POS']        \n",
    "        else:\n",
    "            print('tab type error')\n",
    "            break\n",
    "        bigString = 'image\\n'\n",
    "        for x in range(len(xcoords)):\n",
    "            bigString += 'circle({},{},'.format(xcoords[x],ycoords[x])+radius+') # color={}\\n'.format(colour)\n",
    "        fileName = fileNameBase + '.reg'\n",
    "        with open(fileName,'w') as f:\n",
    "            f.write(bigString)\n",
    "            \n",
    "    return fileName"
   ]
  },
  {
   "cell_type": "code",
   "execution_count": null,
   "metadata": {},
   "outputs": [],
   "source": [
    "makeDS9RegFile([alignTab],'/home/mj1e16/moleGazer/MoleGazer/79948Regions','sex')\n",
    "makeDS9RegFile([refTab],'/home/mj1e16/moleGazer/MoleGazer/29018Regions','sex')"
   ]
  },
  {
   "cell_type": "code",
   "execution_count": 4,
   "metadata": {},
   "outputs": [],
   "source": [
    "# could use a re-work\n",
    "\n",
    "def findTestSources(sources,lowx, highx, lowy, highy, imageNo):\n",
    "    \"\"\"\n",
    "    Searches for bright objects to be used for pattern recognition within a specified region of the reference image.\n",
    "\n",
    "    :param sources: Table of object data\n",
    "    :param lowx: Lower X limit of for searching region region\n",
    "    :param highx: Upper X limit\n",
    "    :param lowy: Lower Y limit\n",
    "    :param highy: Upper Y limit\n",
    "    :param imageNo: Reference image number\n",
    "    :return: Indexes in sources of (up to) the brightest 15 objects contained within the specified region\n",
    "    \"\"\"\n",
    "    testsources = {}\n",
    "    mag = []\n",
    "    number = []\n",
    "    #for x in range(sources[imageNo][-1][0]):\n",
    "    for x in range(len(sources[imageNo])):\n",
    "        x1 = sources[imageNo]['X_IMAGE'][x]\n",
    "        y1 = sources[imageNo]['Y_IMAGE'][x]\n",
    "        if x1 > lowx and x1 < highx and y1 > lowy and y1 < highy:\n",
    "            testsources[x] = sources[imageNo][x]\n",
    "            mag.append(sources[imageNo]['MAG_BEST'][x])\n",
    "            number.append(x)\n",
    "    Z2 = [x for _,x in sorted(zip(mag,number))]\n",
    "    samplestars = Z2[0:15]\n",
    "    \n",
    "    #astroprov.provcall([sources,lowx, highx, lowy, highy, imageNo],[samplestars],\"findTestSources_PythonCode2PythonCode_SQ_tmpl.provn\",\"findTestSources\")\n",
    "    return samplestars"
   ]
  },
  {
   "cell_type": "code",
   "execution_count": 5,
   "metadata": {},
   "outputs": [],
   "source": [
    "def getImageData(imageName,extension):\n",
    "    hdu = fits.open(imageName)\n",
    "    imageData = hdu[extension].data\n",
    "    return imageData"
   ]
  },
  {
   "cell_type": "code",
   "execution_count": 6,
   "metadata": {},
   "outputs": [],
   "source": [
    "def ds9File2Lists(fileName):\n",
    "    with open(fileName,'r') as f:\n",
    "        data = f.readlines()\n",
    "\n",
    "    ycoord = []\n",
    "    xcoord = []\n",
    "    radius = []\n",
    "    starLocations = []\n",
    "    for x in data[:-1]:\n",
    "        try:\n",
    "            locator1 = '('\n",
    "            locator2 = ','\n",
    "            locator3 = ')'\n",
    "            loc1 = x.index(locator1) +1\n",
    "            #print(x)\n",
    "            loc2 = x[loc1:].index(locator2) + loc1 +1\n",
    "            loc3 = x[loc2:].index(locator2) + loc2\n",
    "            loc4 = x.index(locator3)\n",
    "            xcoord.append(float(x[loc1:loc2-1]))\n",
    "            ycoord.append(float(x[loc2:loc3]))\n",
    "            radius.append(float(x[loc3+1:loc4]))\n",
    "        except:\n",
    "            print('Line - {}'.format(x))\n",
    "    return [xcoord,ycoord,radius]"
   ]
  },
  {
   "cell_type": "code",
   "execution_count": 7,
   "metadata": {},
   "outputs": [],
   "source": [
    "def plotMolesOnly(image,moleLocFile):\n",
    "    imdata = getImageData(image,0)\n",
    "    moleLocs = ds9File2Lists(moleLocFile)\n",
    "    alignlocs = moleLocs\n",
    "    mask = []\n",
    "    #maskData = []\n",
    "    for mole in range(len(alignlocs[0])):\n",
    "        centre = PixCoord(alignlocs[0][mole],alignlocs[1][mole])\n",
    "        reg = CirclePixelRegion(centre,alignlocs[2][mole])\n",
    "        mask.append(reg.to_mask())\n",
    "        #maskData.append(mask[mole].cutout(imdata)*mask[mole].data)\n",
    "    \n",
    "    fig, [ax1,ax2] = plt.subplots(1,2,figsize=(10,20))\n",
    "    ax1.imshow(imdata)\n",
    "    for x in range(len(mask)):\n",
    "        numbering = mpl_text.Text(x=alignlocs[0][x],y=alignlocs[1][x],text=str(x),color='r')\n",
    "        ax1.add_artist(mask[x].bbox.as_artist(facecolor='none', edgecolor='white'))\n",
    "        ax1.add_artist(numbering)\n",
    "    #ax2.imshow(zeros)\n",
    "    ax2.imshow(imdata)\n",
    "    plt.show()"
   ]
  },
  {
   "cell_type": "code",
   "execution_count": 8,
   "metadata": {},
   "outputs": [],
   "source": [
    "def cosineRule(masterStar,star1,star2):\n",
    "    a = ((masterStar[0]-star2[0])**2 + (masterStar[1]-star2[1])**2)**0.5\n",
    "    b = ((star1[0]-masterStar[0])**2 + (star1[1]-masterStar[1])**2)**0.5\n",
    "    c = (star1[0]-star2[0])**2 + (star1[1]-star2[1])**2\n",
    "    C = np.arccos((a**2 + b**2 - c)/(2*a*b))\n",
    "    CRounded = round(C,1)\n",
    "    return CRounded"
   ]
  },
  {
   "cell_type": "code",
   "execution_count": 9,
   "metadata": {},
   "outputs": [],
   "source": [
    "def findAllAnglesPerStar(table,starNo):\n",
    "    masterStar = [table['X_IMAGE'][starNo],table['Y_IMAGE'][starNo]]\n",
    "    allAngles = []\n",
    "    for x in range(len(table)):\n",
    "        if x != starNo:\n",
    "            anglePerStar = []\n",
    "            star1 = [table['X_IMAGE'][x],table['Y_IMAGE'][x]]\n",
    "            for y in range(len(table)):\n",
    "                if y != x and y!= starNo:\n",
    "                    star2 = [table['X_IMAGE'][y],table['Y_IMAGE'][y]]\n",
    "                    anglePerStar.append(cosineRule(masterStar,star1,star2))\n",
    "            allAngles.append(anglePerStar)\n",
    "    return allAngles"
   ]
  },
  {
   "cell_type": "code",
   "execution_count": 10,
   "metadata": {},
   "outputs": [],
   "source": [
    "def distance(sources,object1,object2):\n",
    "    \"\"\"\n",
    "    Find the distance between two objects in an image.\n",
    "\n",
    "    :param sources: Table of object data\n",
    "    :param object1: Index of first object in sources\n",
    "    :param object2: Index of second object in sources\n",
    "    :param imageNo: Image Number\n",
    "    :return: Diagonal distance between the two objects\n",
    "    \"\"\"\n",
    "    D = (((abs(sources['X_IMAGE'][object1]-sources['X_IMAGE'][object2])**2) + (abs(sources['Y_IMAGE'][object1]-sources['Y_IMAGE'][object2])**2))**0.5)\n",
    "    Drounded = round(D,-1)\n",
    "    #print([round(x/5,-1)*5 for x in a])\n",
    "    return Drounded\n"
   ]
  },
  {
   "cell_type": "code",
   "execution_count": 11,
   "metadata": {},
   "outputs": [],
   "source": [
    "def referenceDistances(sources,samplestars,imageNo):\n",
    "    \"\"\"\n",
    "    Calculate the diagonal distance between every object in samplestars.\n",
    "\n",
    "    :param sources: Table of object data\n",
    "    :param samplestars: List containing the indexs of stars\n",
    "    :param imageNo: reference image number\n",
    "    :return: List containing a list for each object, comprised of the diagonal distance between that object and every object in samplestars\n",
    "    \"\"\"\n",
    "    #referencedistances = [[]]*len(samplestars)\n",
    "    referencedistances = [[] for x in samplestars]\n",
    "    for y in range(len(samplestars)):\n",
    "        refd = []\n",
    "        for x in range(len(samplestars)):\n",
    "            refd.append(distance(sources,samplestars[y],samplestars[x],imageNo))\n",
    "        referencedistances[y] = refd #.append(distance(sources,samplestars[y],samplestars[x],imageNo))\n",
    "    \n",
    "    #astroprov.provcall([sources,samplestars,imageNo],[referencedistances],\"referenceDistances_PythonCode2PythonCode_SQ_tmpl.provn\",\"referenceDistances\")\n",
    "    return referencedistances\n"
   ]
  },
  {
   "cell_type": "code",
   "execution_count": 12,
   "metadata": {},
   "outputs": [],
   "source": [
    "def findFullDistancesPerObject(sources,objectNo):\n",
    "    \"\"\"\n",
    "    Find the diagonal distances between every object in the image.\n",
    "\n",
    "    :param sources: Table of object data\n",
    "    :param imageno: Image number\n",
    "    :return: Digonal distance between every object in the image\n",
    "    \"\"\"\n",
    "\n",
    "    fulldistances = []\n",
    "    for y in range(len(sources)):\n",
    "        fulldistances.append(distance(sources,objectNo,y)) \n",
    "    \n",
    "    #astroprov.provcall([sources,imageno],[fulldistances],\"findFullDistances_PythonCode2PythonCode_SQ_tmpl.provn\",\"findFullDistances\")\n",
    "    #fulldistances = [round(number/10,1) * 10 for number in fulldistances] # rounding can be changed by changing the mul/div\n",
    "    return fulldistances"
   ]
  },
  {
   "cell_type": "code",
   "execution_count": 13,
   "metadata": {},
   "outputs": [],
   "source": [
    "def matchAngles(allAnglesPerObject,allAngles,matchFraction=0.6):\n",
    "    percentageForMatch = 0.9\n",
    "\n",
    "    # keep for now, inner join on an sql table might be better... ask Age about this?\n",
    "\n",
    "    translationDictionary = {}\n",
    "\n",
    "    for i,obj in enumerate(allAnglesPerObject): # loop over each object's angle set\n",
    "        oneObjectDict = {}\n",
    "        oneObjectLengths = {}\n",
    "        for j,angleSet in enumerate(obj): # loop over one angle set\n",
    "            matchLengths = []\n",
    "            for k,ogObj in enumerate(allAngles): # loop over master angle set\n",
    "                #result = all(elem in angleSet for elem in ogObj) # here is the problem-need to relax these constraints and change to any \n",
    "                result = any(elem in angleSet for elem in ogObj) # here is the problem-need to relax these constraints and change to any \n",
    "                result = [x for x in angleSet if x in ogObj]\n",
    "                #originalLength = len(list(set(ogObj)))\n",
    "                newLength = len(list(set(result)))\n",
    "                #if newLength > matchFraction*originalLength: # this step may be unecessary\n",
    "                if j not in oneObjectDict.keys():    \n",
    "                    oneObjectDict[j] = k\n",
    "                    oneObjectLengths[j] = newLength\n",
    "                else:\n",
    "                    if newLength > oneObjectLengths[j]:\n",
    "                        oneObjectDict[j] = k\n",
    "                        \n",
    "        translationDictionary[i] = oneObjectDict\n",
    "    return translationDictionary # values are -1 of their true values - this is accounted for later"
   ]
  },
  {
   "cell_type": "code",
   "execution_count": 18,
   "metadata": {},
   "outputs": [],
   "source": [
    "def matchAngles(allAnglesPerObject,allAngles):\n",
    "    percentageForMatch = 0.9\n",
    "\n",
    "    # keep for now, inner join on an sql table might be better... ask Age about this?\n",
    "\n",
    "    translationDictionary = {}\n",
    "\n",
    "    for i,obj in enumerate(allAnglesPerObject): # loop over each object's angle set\n",
    "        oneObjectDict = {}\n",
    "        for j,angleSet in enumerate(obj): # loop over one angle set\n",
    "            matchLengths = []\n",
    "            for k,ogObj in enumerate(allAngles): # loop over master angle set\n",
    "                result = all(elem in angleSet for elem in ogObj) # here is the problem-need to relax these constraints and change to any \n",
    "                #result = any(elem in angleSet for elem in ogObj) # here is the problem-need to relax these constraints and change to any \n",
    "                \n",
    "                if result:\n",
    "                    oneObjectDict[j] = k\n",
    "        translationDictionary[i] = oneObjectDict\n",
    "    return translationDictionary # values are -1 of their true values - this is accounted for later"
   ]
  },
  {
   "cell_type": "code",
   "execution_count": 19,
   "metadata": {},
   "outputs": [],
   "source": [
    "# def confirmAngleMatchWithDistances(translationDictionary,refTab,referenceDistances,indexing):\n",
    "#     trueMatchDict = {}\n",
    "#     potentialMatches = []\n",
    "#     potentialRef = []\n",
    "#     for key,value in translationDictionary.items():\n",
    "#         oneMatch = []\n",
    "#         oneRef = []\n",
    "#         if len(value) !=0:\n",
    "#             for imgNo,sampleNo in value.items():\n",
    "#                 objectDistance = distance(refTab,key,imgNo+1)\n",
    "#                 if objectDistance == referenceDistances[indexing.index(sampleNo)]:\n",
    "#                     oneMatch.append(imgNo+1)\n",
    "#                     oneRef.append(sampleNo)\n",
    "#         potentialMatches.append(oneMatch)\n",
    "#         potentialRef.append(oneRef)\n",
    "\n",
    "#     listLengths = [len(x) for x in potentialMatches]\n",
    "#     bestMatch = max(listLengths)\n",
    "#     bestMatch = [i for i,j in enumerate(listLengths) if j==bestMatch]\n",
    "#     if len(bestMatch) > 1:\n",
    "#         print('Currently {} potentail candidates, choosing the first'.format(len(bestMatch)))\n",
    "#     trueMatchDict[0] = bestMatch[0]\n",
    "#     for x in range(len(potentialMatches[bestMatch[0]])):\n",
    "#         trueMatchDict[potentialRef[bestMatch[0]][x]] = potentialMatches[bestMatch[0]][x]\n",
    "#     return trueMatchDict"
   ]
  },
  {
   "cell_type": "code",
   "execution_count": 20,
   "metadata": {},
   "outputs": [],
   "source": [
    "def confirmAngleMatchWithDistances(translationDictionary,refTab,referenceDistances,indexing,closeness=20):\n",
    "    trueMatchDict = {}\n",
    "    potentialMatches = []\n",
    "    potentialRef = []\n",
    "    for key,value in translationDictionary.items():\n",
    "        oneMatch = []\n",
    "        oneRef = []\n",
    "        if len(value) !=0:\n",
    "            for imgNo,sampleNo in value.items():\n",
    "                objectDistance = distance(refTab,key,imgNo)\n",
    "                refDist = referenceDistances[indexing.index(sampleNo)]\n",
    "                if objectDistance > (refDist-closeness) and objectDistance < (refDist+closeness):\n",
    "                    oneMatch.append(imgNo)\n",
    "                    oneRef.append(sampleNo)\n",
    "        potentialMatches.append(oneMatch)\n",
    "        potentialRef.append(oneRef)\n",
    "\n",
    "    listLengths = [len(x) for x in potentialMatches]\n",
    "    bestMatch = max(listLengths)\n",
    "    bestMatch = [i for i,j in enumerate(listLengths) if j==bestMatch]\n",
    "    if len(bestMatch) > 1:\n",
    "        print('Currently {} potentail candidates, choosing the first'.format(len(bestMatch)))\n",
    "    trueMatchDict[0] = bestMatch[0]\n",
    "    for x in range(len(potentialMatches[bestMatch[0]])):\n",
    "        trueMatchDict[potentialRef[bestMatch[0]][x]] = potentialMatches[bestMatch[0]][x]\n",
    "    return trueMatchDict"
   ]
  },
  {
   "cell_type": "code",
   "execution_count": 16,
   "metadata": {},
   "outputs": [],
   "source": [
    "#testSources = findTestSources([refTab],0,10000,0,10000,0)"
   ]
  },
  {
   "cell_type": "code",
   "execution_count": 17,
   "metadata": {},
   "outputs": [],
   "source": [
    "# targetMoles = [44,37,35,34,40,41,20,16,15,14,10]\n",
    "# targetMolesReal = [x+1 for x in targetMoles] \n",
    "# fullListofObjects = range(len(refTab))\n",
    "# toBeRemoved = [x for x in fullListofObjects if x not in targetMoles]\n",
    "# #print(len(fullListofObjects),len(toBeRemoved),len(testSources))\n",
    "# refTab.remove_rows(toBeRemoved)\n",
    "# sampleStars = refTab\n",
    "# refTab = Table.read('/home/mj1e16/moleGazer/Photos/F/fitsImages/simMolePos/29018InvertedAverageCropped166.44444444444_21.8421052632_gauss_5.0_9x9.conv.cat',format='ascii.sextractor')"
   ]
  },
  {
   "cell_type": "code",
   "execution_count": 21,
   "metadata": {},
   "outputs": [],
   "source": [
    "allAngles = findAllAnglesPerStar(refTab,0) # all angles between master and sample stars\n",
    "#allAngles = findAllAnglesPerStar(sampleStars,0) # all angles between master and sample stars\n",
    "\n",
    "allAnglesPerObject = [] # nested list - each list represents one star chosen as the master star and the values within it are the angles between each other star\n",
    "for x in range(len(refTab)):\n",
    "    allAnglesPerObject.append(findAllAnglesPerStar(refTab,x))\n"
   ]
  },
  {
   "cell_type": "code",
   "execution_count": 24,
   "metadata": {},
   "outputs": [
    {
     "name": "stdout",
     "output_type": "stream",
     "text": [
      "[1, 2]\n"
     ]
    }
   ],
   "source": [
    "dictionary = {1:'a',2:'b'}\n",
    "print(dictionary.keys())"
   ]
  },
  {
   "cell_type": "code",
   "execution_count": 22,
   "metadata": {},
   "outputs": [],
   "source": [
    "translationDict = matchAngles(allAnglesPerObject,allAngles)"
   ]
  },
  {
   "cell_type": "code",
   "execution_count": 23,
   "metadata": {},
   "outputs": [],
   "source": [
    "# referenceDistances = []\n",
    "# indexing = []\n",
    "# for x in range(1,len(sampleStars)):\n",
    "#     referenceDistances.append(distance(sampleStars,0,x))\n",
    "#     indexing.append(x-1)\n",
    "\n",
    "referenceDistances = []\n",
    "indexing = []\n",
    "for x in range(len(refTab)):\n",
    "    referenceDistances.append(distance(refTab,0,x))\n",
    "    indexing.append(x)"
   ]
  },
  {
   "cell_type": "code",
   "execution_count": 24,
   "metadata": {},
   "outputs": [],
   "source": [
    "newtrueMatchDict = confirmAngleMatchWithDistances(translationDict,refTab,referenceDistances,indexing,closeness=50)"
   ]
  },
  {
   "cell_type": "code",
   "execution_count": 25,
   "metadata": {},
   "outputs": [
    {
     "data": {
      "text/plain": [
       "{0: 0,\n",
       " 1: 1,\n",
       " 2: 2,\n",
       " 3: 3,\n",
       " 4: 4,\n",
       " 5: 5,\n",
       " 6: 6,\n",
       " 7: 7,\n",
       " 10: 10,\n",
       " 11: 11,\n",
       " 15: 15,\n",
       " 17: 17,\n",
       " 18: 18,\n",
       " 20: 20,\n",
       " 30: 30,\n",
       " 32: 32,\n",
       " 33: 33,\n",
       " 36: 36,\n",
       " 38: 38,\n",
       " 41: 41,\n",
       " 42: 42,\n",
       " 43: 43,\n",
       " 45: 45,\n",
       " 46: 46,\n",
       " 47: 47,\n",
       " 48: 48,\n",
       " 49: 49,\n",
       " 50: 50,\n",
       " 51: 51}"
      ]
     },
     "execution_count": 25,
     "metadata": {},
     "output_type": "execute_result"
    }
   ],
   "source": [
    "newtrueMatchDict"
   ]
  },
  {
   "cell_type": "code",
   "execution_count": 26,
   "metadata": {},
   "outputs": [
    {
     "data": {
      "text/plain": [
       "{0: 0,\n",
       " 1: 1,\n",
       " 2: 2,\n",
       " 3: 3,\n",
       " 4: 4,\n",
       " 5: 5,\n",
       " 6: 6,\n",
       " 7: 7,\n",
       " 8: 51,\n",
       " 9: 43,\n",
       " 10: 10,\n",
       " 11: 11,\n",
       " 12: 49,\n",
       " 13: 41,\n",
       " 14: 15,\n",
       " 15: 15,\n",
       " 16: 50,\n",
       " 17: 17,\n",
       " 18: 18,\n",
       " 19: 48,\n",
       " 20: 20,\n",
       " 21: 45,\n",
       " 22: 48,\n",
       " 23: 50,\n",
       " 24: 51,\n",
       " 25: 51,\n",
       " 26: 48,\n",
       " 27: 32,\n",
       " 28: 49,\n",
       " 29: 48,\n",
       " 30: 30,\n",
       " 31: 43,\n",
       " 32: 32,\n",
       " 33: 33,\n",
       " 34: 41,\n",
       " 35: 48,\n",
       " 36: 36,\n",
       " 37: 46,\n",
       " 38: 38,\n",
       " 39: 50,\n",
       " 40: 50,\n",
       " 41: 41,\n",
       " 42: 42,\n",
       " 43: 43,\n",
       " 44: 48,\n",
       " 45: 45,\n",
       " 46: 46,\n",
       " 47: 47,\n",
       " 48: 48,\n",
       " 49: 49,\n",
       " 50: 50,\n",
       " 51: 51}"
      ]
     },
     "execution_count": 26,
     "metadata": {},
     "output_type": "execute_result"
    }
   ],
   "source": [
    "translationDict[0]"
   ]
  },
  {
   "cell_type": "code",
   "execution_count": null,
   "metadata": {},
   "outputs": [],
   "source": []
  }
 ],
 "metadata": {
  "kernelspec": {
   "display_name": "Python 3",
   "language": "python",
   "name": "python3"
  },
  "language_info": {
   "codemirror_mode": {
    "name": "ipython",
    "version": 2
   },
   "file_extension": ".py",
   "mimetype": "text/x-python",
   "name": "python",
   "nbconvert_exporter": "python",
   "pygments_lexer": "ipython2",
   "version": "2.7.12"
  }
 },
 "nbformat": 4,
 "nbformat_minor": 2
}
