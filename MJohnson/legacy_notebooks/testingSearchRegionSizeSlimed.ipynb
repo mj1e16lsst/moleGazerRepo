{
 "cells": [
  {
   "cell_type": "code",
   "execution_count": 1,
   "metadata": {},
   "outputs": [],
   "source": [
    "from astropy.io import fits\n",
    "import os\n",
    "import subprocess\n",
    "from astropy.table import Table\n",
    "import numpy as np\n",
    "from astropy.io import ascii\n",
    "import time\n",
    "\n",
    "import os\n",
    "import numpy as np\n",
    "from PIL import Image\n",
    "import PIL.ImageOps    \n",
    "from astropy.io import fits\n",
    "from astropy.table import Table\n",
    "\n",
    "import matplotlib.pyplot as plt\n",
    "from astropy.visualization import astropy_mpl_style\n",
    "import image_registration\n",
    "from astropy.nddata import Cutout2D\n",
    "from astropy import units as u\n",
    "import matplotlib.image as mpimg\n",
    "\n",
    "from __future__ import print_function\n",
    "#import cv2\n",
    "import numpy as np\n",
    "\n",
    "# from photutils import DAOStarFinder\n",
    "# from photutils import CircularAperture\n",
    "# from photutils import aperture_photometry\n",
    "\n",
    "from astropy.stats import sigma_clipped_stats\n",
    "\n",
    "from astropy.visualization import SqrtStretch\n",
    "from astropy.visualization.mpl_normalize import ImageNormalize\n",
    "\n",
    " \n",
    "import pandas as pd\n",
    "import pandasql as ps\n",
    "plt.style.use(astropy_mpl_style)\n",
    "\n",
    "#from regions.core import PixCoord\n",
    "#from regions.shapes.circle import CirclePixelRegion\n",
    "import scipy.misc\n",
    "import time\n",
    "\n",
    "from mpl_toolkits.mplot3d import Axes3D  # noqa: F401 unused import"
   ]
  },
  {
   "cell_type": "code",
   "execution_count": 2,
   "metadata": {},
   "outputs": [],
   "source": [
    "def saveImData(imData,name):\n",
    "    im = fits.PrimaryHDU(imData)\n",
    "    hdub = fits.HDUList([im])\n",
    "    hdub.writeto(name)"
   ]
  },
  {
   "cell_type": "code",
   "execution_count": 3,
   "metadata": {},
   "outputs": [],
   "source": [
    "def getImageData(imageName,extension):\n",
    "    hdu = fits.open(imageName)\n",
    "    imageData = hdu[extension].data\n",
    "    return imageData"
   ]
  },
  {
   "cell_type": "code",
   "execution_count": 4,
   "metadata": {},
   "outputs": [],
   "source": [
    "def getImageHeader(imageName,extension):\n",
    "    hdu = fits.open(imageName)\n",
    "    imageData = hdu[extension].header\n",
    "    return imageData"
   ]
  },
  {
   "cell_type": "code",
   "execution_count": 5,
   "metadata": {},
   "outputs": [],
   "source": [
    "def assessQuality(output,sqlQuery,refPandasNew):\n",
    "    pandasTable = Table.to_pandas(output)\n",
    "    newdf = ps.sqldf(sqlQuery,locals())\n",
    "    Nrecovered = len(newdf)\n",
    "    Ntarget = len(refPandasNew)\n",
    "    Ntot = len(pandasTable)\n",
    "    return [Nrecovered,Ntarget,Ntot]"
   ]
  },
  {
   "cell_type": "code",
   "execution_count": 6,
   "metadata": {},
   "outputs": [],
   "source": [
    "def makeDS9RegFile(sexTabList,fileNameBase,tabType,colour='red',radius='10'):\n",
    "    for tables in range(len(sexTabList)):\n",
    "        if tabType == 'dao':\n",
    "            xcoords = sexTabList[tables]['xcentroid']\n",
    "            ycoords = sexTabList[tables]['ycentroid']\n",
    "        elif tabType == 'sexMedian':\n",
    "            ra = sexTabList[tables]['RA']\n",
    "            dec = sexTabList[tables]['DEC']\n",
    "        elif tabType == 'sex':\n",
    "            xcoords = sexTabList[tables]['X_IMAGE']\n",
    "            ycoords = sexTabList[tables]['Y_IMAGE']\n",
    "        elif tabType == 'iraf':\n",
    "            xcoords = sexTabList[tables]['X_POS']\n",
    "            ycoords = sexTabList[tables]['Y_POS']        \n",
    "        else:\n",
    "            print('tab type error')\n",
    "            break\n",
    "        bigString = 'image\\n'\n",
    "        for x in range(len(xcoords)):\n",
    "            bigString += 'circle({},{},'.format(xcoords[x],ycoords[x])+radius+') # color={}\\n'.format(colour)\n",
    "        fileName = fileNameBase + '.reg'\n",
    "        with open(fileName,'w') as f:\n",
    "            f.write(bigString)\n",
    "            \n",
    "    return fileName"
   ]
  },
  {
   "cell_type": "code",
   "execution_count": 24,
   "metadata": {},
   "outputs": [],
   "source": [
    "def sextractor(imagename,valList,sextractoryDir='/home/mj1e16/sextractor/sextractor-master/config/',cataloguename='/home/mj1e16/sextractor/sextractor-master/config/moleTable.cat',tableDir='/home/mj1e16/moleGazer/Photos/F/fitsImages/simMolePosNewRegNormal//'):\n",
    "    imTabName = imagename.replace('.fits','')\n",
    "    loc1 = imTabName.rfind('/') + 1\n",
    "    imTabName = imTabName[loc1:]+'{}_{}_{}'.format(valList[0],valList[1],valList[2])+'.cat'\n",
    "    os.chdir(sextractoryDir)\n",
    "    subprocess.call(['sex',imagename,'-c','default_1.sex'])\n",
    "    assoc = Table.read(cataloguename,format='ascii.sextractor')\n",
    "    subprocess.call(['cp',cataloguename,tableDir+imTabName])\n",
    "    return assoc"
   ]
  },
  {
   "cell_type": "code",
   "execution_count": 26,
   "metadata": {},
   "outputs": [],
   "source": [
    "def makeConfig(valList,tableName='moleTable.cat',defaultDir='/home/mj1e16/sextractor/sextractor-master/config/',attributeList=['DETECT_THRESH','DETECT_MINAREA','FILTER_NAME']):\n",
    "    \n",
    "    with open(defaultDir+'/default.sex','r') as f:\n",
    "        data  = f.read()\n",
    "    for x in range(len(valList)):\n",
    "        nameLoc = data.find(attributeList[x]) + len(attributeList[x])\n",
    "        endLoc = data[nameLoc:].find('#') + nameLoc\n",
    "        newData = data[:nameLoc] + ' '+str(valList[x])+' ' + data[endLoc:]\n",
    "        data = newData\n",
    "    \n",
    "    cname = 'CATALOG_NAME'\n",
    "    catName = tableName#'test1.cat'\n",
    "    confName = 'default_1.sex'\n",
    "    nameLoc = data.find(cname) + len(cname)\n",
    "    endLoc = data[nameLoc:].find('#') + nameLoc\n",
    "    newData = data[:nameLoc] + ' ' +catName+ ' ' + data[endLoc:]\n",
    "    data = newData\n",
    "\n",
    "    cname = 'PARAMETERS_NAME'\n",
    "    nameLoc = data.find(cname) + len(cname)\n",
    "    endLoc = data[nameLoc:].find('#') + nameLoc\n",
    "    newData = data[:nameLoc] + ' autodefault.param ' + data[endLoc:]\n",
    "    \n",
    "    #print(newData)\n",
    "    with open(defaultDir+confName,'w') as f:\n",
    "        f.write(newData)\n",
    "    return(confName,tableName,catName)"
   ]
  },
  {
   "cell_type": "code",
   "execution_count": 7,
   "metadata": {},
   "outputs": [],
   "source": [
    "def findObjects(valList,image):\n",
    "    makeConfig(valList)\n",
    "    tabTot =  sextractor(image,valList)\n",
    "    return tabTot"
   ]
  },
  {
   "cell_type": "code",
   "execution_count": 8,
   "metadata": {},
   "outputs": [],
   "source": [
    "def saveSexTabasReg(table,regFileName='baseRegions.reg',regDirectory='/home/mj1e16/moleGazer/MoleGazer/regionDirectory/',aperture=15):\n",
    "    xcoords = table['X_IMAGE'].tolist()\n",
    "    ycoords = table['Y_IMAGE'].tolist()\n",
    "    string = ''\n",
    "    for x in range(len(xcoords)):\n",
    "        string += 'circle({},{},{})\\n'.format(xcoords[x],ycoords[x],aperture)\n",
    "    with open(regDirectory+regFileName,'w') as f:\n",
    "        f.write(string)"
   ]
  },
  {
   "cell_type": "code",
   "execution_count": 9,
   "metadata": {},
   "outputs": [],
   "source": [
    "def transform16Bit(imageName,outImageName): \n",
    "    data = getImageData(imageName,0)\n",
    "    hdu = fits.PrimaryHDU(data)\n",
    "    hdu.data = np.int16(hdu.data)\n",
    "    hdu.writeto(outImageName)"
   ]
  },
  {
   "cell_type": "code",
   "execution_count": 10,
   "metadata": {},
   "outputs": [],
   "source": [
    "def showImageWithResults(valList,image,imageDir):\n",
    "    tab = findObjects(valList,imageDir+image)\n",
    "    saveSexTabasReg(tab)\n",
    "    regions = makeDS9RegFile([tab],'/home/mj1e16/moleGazer/MoleGazer/regionDirectory/baseRegions','sex')\n",
    "    print(imageDir+image)\n",
    "    print(regions)\n",
    "    subprocess.call(['ds9',imageDir+image,'-regions',regions])"
   ]
  },
  {
   "cell_type": "code",
   "execution_count": 11,
   "metadata": {},
   "outputs": [],
   "source": [
    "def cropImage(image,ImDir):\n",
    "    imData = getImageData(ImDir+image,0)\n",
    "    ylength = imData.shape[0]\n",
    "    cropHeight = int(ylength* 1./38.)\n",
    "    imData[0:cropHeight] = 0\n",
    "    hdu = fits.PrimaryHDU(imData)\n",
    "    imageOut = image.replace('.fits','Cropped.fits')\n",
    "    hdu.writeto(ImDir+'Cropped/'+imageOut)\n",
    "    return imageOut"
   ]
  },
  {
   "cell_type": "code",
   "execution_count": null,
   "metadata": {},
   "outputs": [],
   "source": [
    "# def normaliseImage(baseImage,targetImage): # needs analogue of which image is normalised\n",
    "#     baseVal = "
   ]
  },
  {
   "cell_type": "code",
   "execution_count": 12,
   "metadata": {},
   "outputs": [],
   "source": [
    "def molePositions2Tab(molePositions,tollerance=5):\n",
    "    with open(molePositions,'r') as f:\n",
    "        data = f.readlines()\n",
    "\n",
    "    ycoord = []\n",
    "    xcoord = []\n",
    "    starLocations = []\n",
    "    for x in data:\n",
    "        if 'circle(' in x:\n",
    "            locator1 = '('\n",
    "            locator2 = ','\n",
    "            loc1 = x.index(locator1) +1\n",
    "            #print(x)\n",
    "            loc2 = x[loc1:].index(locator2) + loc1 +1\n",
    "            loc3 = x[loc2:].index(locator2) + loc2\n",
    "            xcoord.append(x[loc1:loc2-1])\n",
    "            ycoord.append(x[loc2:loc3])\n",
    "            #starLocations.append([float(xcoord),float(ycoord)])\n",
    "    \n",
    "\n",
    "    xUpper = [float(x) + tollerance for x in xcoord]\n",
    "    xLower = [float(x) - tollerance for x in xcoord]\n",
    "    yUpper = [float(x) + tollerance for x in ycoord]\n",
    "    yLower = [float(x) - tollerance for x in ycoord]\n",
    "\n",
    "    refDict = {'index':range(len(xcoord)),'xcoord':xcoord,'ycoord':ycoord,'xUpper':xUpper,'xLower':xLower,\n",
    "              'yUpper':yUpper,'yLower':yLower}\n",
    "    refPandasNew = pd.DataFrame(data=refDict)\n",
    "    return refPandasNew"
   ]
  },
  {
   "cell_type": "code",
   "execution_count": 13,
   "metadata": {},
   "outputs": [],
   "source": [
    "def readTable(imagename,valList,tableDir='/home/mj1e16/moleGazer/Photos/F/fitsImages/simMolePos/'):\n",
    "    \n",
    "    imTabName = imagename.replace('.fits','')\n",
    "    loc1 = imTabName.rfind('/') + 1\n",
    "    imTabName = imTabName[loc1:]+'{}_{}_{}'.format(valList[0],valList[1],valList[2])+'.cat'\n",
    "    print(tableDir+imTabName)\n",
    "    assoc = Table.read(tableDir+imTabName,format='ascii.sextractor')\n",
    "    \n",
    "    return assoc"
   ]
  },
  {
   "cell_type": "code",
   "execution_count": null,
   "metadata": {},
   "outputs": [],
   "source": []
  },
  {
   "cell_type": "code",
   "execution_count": null,
   "metadata": {},
   "outputs": [],
   "source": [
    "tab = readTable(sextractorReady[0],[valList[0][0],valList[1][0],valList[2][0]])"
   ]
  },
  {
   "cell_type": "code",
   "execution_count": null,
   "metadata": {},
   "outputs": [],
   "source": [
    "tab"
   ]
  },
  {
   "cell_type": "code",
   "execution_count": 14,
   "metadata": {},
   "outputs": [],
   "source": [
    "sqlcode = '''\n",
    "SELECT *\n",
    "FROM pandasTable\n",
    "JOIN refPandasNew\n",
    "ON pandasTable.X_IMAGE < refPandasNew.xUpper\n",
    "AND pandasTable.X_IMAGE > refPandasNew.xLower\n",
    "AND pandasTable.Y_IMAGE < refPandasNew.yUpper\n",
    "AND pandasTable.Y_IMAGE > refPandasNew.yLower\n",
    "'''"
   ]
  },
  {
   "cell_type": "code",
   "execution_count": 15,
   "metadata": {},
   "outputs": [],
   "source": [
    "valList = [np.linspace(1,50,10),np.linspace(1,100,20),['default.conv','gauss_1.5_3x3.conv','gauss_2.0_3x3.conv','gauss_2.0_5x5.conv',\n",
    "                                                    'gauss_2.5_5x5.conv','gauss_3.0_5x5.conv','gauss_3.0_7x7.conv',\n",
    "                                                    'gauss_4.0_7x7.conv','gauss_5.0_9x9.conv','mexhat_1.5_5x5.conv',\n",
    "                                                    'mexhat_2.0_7x7.conv','mexhat_2.5_7x7.conv','mexhat_3.0_9x9.conv',\n",
    "                                                    'mexhat_4.0_9x9.conv','mexhat_5.0_11x11.conv','tophat_1.5_3x3.conv',\n",
    "                                                    'tophat_2.0_3x3.conv','tophat_2.5_3x3.conv','tophat_3.0_3x3.conv',\n",
    "                                                    'tophat_4.0_5x5.conv','tophat_5.0_5x5.conv']]"
   ]
  },
  {
   "cell_type": "code",
   "execution_count": 16,
   "metadata": {},
   "outputs": [],
   "source": [
    "dirlist = os.listdir('/home/mj1e16/moleGazer/Photos/F/fitsImages/')\n",
    "regList = [x for x in dirlist if '.reg' in x]\n",
    "regList.sort()\n",
    "imageList = [x for x in dirlist if '.fits' in x]\n",
    "imageList.sort()"
   ]
  },
  {
   "cell_type": "code",
   "execution_count": null,
   "metadata": {},
   "outputs": [],
   "source": [
    "# for x in imageList:\n",
    "#     croppedIm = cropImage(x,'/home/mj1e16/moleGazer/Photos/F/fitsImages/')\n",
    "#     moleImNewFormat = croppedIm.replace('.fits','16.fits')\n",
    "#     transform16Bit('/home/mj1e16/moleGazer/Photos/F/fitsImages/Cropped/'+croppedIm,'/home/mj1e16/moleGazer/Photos/F/fitsImages/16bit/'+moleImNewFormat)\n",
    "    "
   ]
  },
  {
   "cell_type": "code",
   "execution_count": 17,
   "metadata": {},
   "outputs": [],
   "source": [
    "sextractorReady = os.listdir('/home/mj1e16/moleGazer/Photos/F/fitsImages/16bit/normalised/')\n",
    "sextractorReady.sort()"
   ]
  },
  {
   "cell_type": "code",
   "execution_count": 21,
   "metadata": {},
   "outputs": [
    {
     "name": "stdout",
     "output_type": "stream",
     "text": [
      "['29005.reg', '29007.reg', '29009.reg', '29010.reg', '29011.reg', '29012.reg', '29013.reg', '29014.reg', '29015.reg', '29016.reg', '29017.reg', '29018.reg', '29019.reg', '29020.reg', '29021.reg', '29022.reg', '79940.reg', '79941.reg', '79942.reg', '79943.reg', '79944.reg', '79945.reg', '79946.reg', '79947.reg', '79948.reg', '79949.reg', '79950.reg', '79951.reg', '79952.reg', '79953.reg']\n"
     ]
    }
   ],
   "source": [
    "regList = [x for x in regList if 'Labelled' not in x]\n",
    "regList = [x for x in regList if 'temp' not in x]\n",
    "print(regList)"
   ]
  },
  {
   "cell_type": "code",
   "execution_count": 22,
   "metadata": {},
   "outputs": [],
   "source": [
    "panTabs = []\n",
    "for x in regList:\n",
    "    panTabs.append(molePositions2Tab('/home/mj1e16/moleGazer/Photos/F/fitsImages/'+x))"
   ]
  },
  {
   "cell_type": "code",
   "execution_count": null,
   "metadata": {},
   "outputs": [],
   "source": [
    "showImageWithResults([1,1,'default.conv'],'29005InvertedAverageCropped16.fits','/home/mj1e16/moleGazer/Photos/F/fitsImages/16bit/')"
   ]
  },
  {
   "cell_type": "code",
   "execution_count": 28,
   "metadata": {
    "scrolled": true
   },
   "outputs": [
    {
     "name": "stdout",
     "output_type": "stream",
     "text": [
      "4081.27651191\n",
      "4076.77532387\n",
      "4048.00092697\n",
      "4113.85894418\n",
      "3976.73582697\n",
      "4156.99982095\n",
      "4016.40730715\n",
      "3897.27100897\n",
      "2203.59911513\n",
      "2166.20539212\n",
      "1874.06513405\n",
      "1934.51835489\n",
      "3855.64116287\n",
      "3990.65757108\n",
      "3766.03266597\n",
      "3906.31814408\n",
      "4099.0649178\n",
      "3961.45555902\n",
      "3800.22680712\n",
      "4249.31539297\n",
      "3918.01949\n",
      "4090.35128284\n",
      "2820.866009\n",
      "2755.34970498\n",
      "2828.79890299\n",
      "3270.58515286\n",
      "3823.6023581\n",
      "3623.77369404\n",
      "3851.91854692\n",
      "4074.90303206\n",
      "107233.108512\n"
     ]
    }
   ],
   "source": [
    "t0 = time.time()\n",
    "\n",
    "#for regSize in range(6,22,2):\n",
    "\n",
    "regSize = 10\n",
    "\n",
    "panTabs = []\n",
    "for x in regList:\n",
    "    panTabs.append(molePositions2Tab('/home/mj1e16/moleGazer/Photos/F/fitsImages/'+x,tollerance=regSize))\n",
    "\n",
    "\n",
    "for imNum in range(len(sextractorReady)):\n",
    "    t1 = time.time()\n",
    "    Nrecovered = []\n",
    "    Ntarget = []\n",
    "    Ntot = []\n",
    "    settings = []\n",
    "\n",
    "    fakeHeadMoleIM = '/home/mj1e16/moleGazer/Photos/F/fitsImages/16bit/normalised/'+sextractorReady[imNum]\n",
    "    refPandasNew = panTabs[imNum]\n",
    "\n",
    "    for x in range(len(valList[0])):\n",
    "        for y in range(len(valList[1])):\n",
    "            for z in range(len(valList[2])):\n",
    "                output = findObjects([valList[0][x],valList[1][y],valList[2][z]],fakeHeadMoleIM)\n",
    "                #output = readTable(sextractorReady[imNum],[valList[0][x],valList[1][y],valList[2][z]])\n",
    "                quality = assessQuality(output,sqlcode,refPandasNew)\n",
    "                Nrecovered.append(quality[0])\n",
    "                Ntarget.append(quality[1])\n",
    "                Ntot.append(quality[2])\n",
    "                settings.append([valList[0][x],valList[1][y],valList[2][z]])\n",
    "    print(time.time() - t1)\n",
    "    ogImNum = regList[imNum].replace('.reg','')\n",
    "    with open('/home/mj1e16/moleGazer/Photos/F/fitsImages/simMolePosNewRegNormal/{}_results_region_{}.py'.format(ogImNum,regSize),'w') as f:\n",
    "        f.write('\\nsettings = '+str(settings)+'\\nNrecovered = '+str(Nrecovered)+'\\nNtarget = '+str(Ntarget)+'\\nNtot = '+str(Ntot))\n",
    "\n",
    "print(time.time() -t0)"
   ]
  },
  {
   "cell_type": "code",
   "execution_count": null,
   "metadata": {
    "scrolled": true
   },
   "outputs": [],
   "source": [
    "t0 = time.time()\n",
    "\n",
    "\n",
    "\n",
    "for imNum in range(len(sextractorReady)):\n",
    "    t1 = time.time()\n",
    "    Nrecovered = []\n",
    "    Ntarget = []\n",
    "    Ntot = []\n",
    "    settings = []\n",
    "    \n",
    "    fakeHeadMoleIM = '/home/mj1e16/moleGazer/Photos/F/fitsImages/16bit/'+sextractorReady[imNum]\n",
    "    refPandasNew = panTabs[imNum]\n",
    "    \n",
    "    for x in range(len(valList[0])):\n",
    "        for y in range(len(valList[1])):\n",
    "            for z in range(len(valList[2])):\n",
    "                output = findObjects([valList[0][x],valList[1][y],valList[2][z]],fakeHeadMoleIM)\n",
    "                quality = assessQuality(output,sqlcode,refPandasNew)\n",
    "                Nrecovered.append(quality[0])\n",
    "                Ntarget.append(quality[1])\n",
    "                Ntot.append(quality[2])\n",
    "                settings.append([valList[0][x],valList[1][y],valList[2][z]])\n",
    "    print(time.time() - t1)\n",
    "    ogImNum = regList[imNum].replace('.reg','')\n",
    "    with open('/home/mj1e16/moleGazer/Photos/F/fitsImages/simMolePos/{}_results.py'.format(ogImNum),'w') as f:\n",
    "        f.write('\\nsettings = '+str(settings)+'\\nNrecovered = '+str(Nrecovered)+'\\nNtarget = '+str(Ntarget)+'\\nNtot = '+str(Ntot))\n",
    "        \n",
    "print(time.time() -t0)"
   ]
  },
  {
   "cell_type": "code",
   "execution_count": null,
   "metadata": {},
   "outputs": [],
   "source": [
    "testData = getImageData('/home/mj1e16/moleGazer/Photos/F/fitsImages/16bit/29005InvertedAverageCropped16.fits',0)"
   ]
  },
  {
   "cell_type": "code",
   "execution_count": null,
   "metadata": {},
   "outputs": [],
   "source": [
    "np.std(testData)"
   ]
  },
  {
   "cell_type": "code",
   "execution_count": null,
   "metadata": {},
   "outputs": [],
   "source": [
    "# command = ['ds9']\n",
    "# for x in range(len(valList[0])):\n",
    "#     for y in range(len(valList[1])):\n",
    "#         command.extend([fakeHeadMoleIM,'-regions','sextest_{}_{}.reg'.format(x,y),'-scale','mode','zscale'])\n",
    "# command.extend(['-frame','lock','image'])\n",
    "# #print(command)\n",
    "# subprocess.call(command)"
   ]
  },
  {
   "cell_type": "code",
   "execution_count": null,
   "metadata": {},
   "outputs": [],
   "source": [
    "subprocess.call(['cp','/home/mj1e16/sextractor/sextractor-master/config/outputSextractorNew.py','/home/mj1e16/moleGazer/MoleGazer'])"
   ]
  },
  {
   "cell_type": "code",
   "execution_count": null,
   "metadata": {},
   "outputs": [],
   "source": [
    "import outputSextractorNew as o2"
   ]
  },
  {
   "cell_type": "code",
   "execution_count": null,
   "metadata": {},
   "outputs": [],
   "source": [
    "reload(outputSextractorNew)"
   ]
  },
  {
   "cell_type": "code",
   "execution_count": null,
   "metadata": {},
   "outputs": [],
   "source": [
    "o2.Nrecovered"
   ]
  },
  {
   "cell_type": "code",
   "execution_count": null,
   "metadata": {},
   "outputs": [],
   "source": [
    "outPutNecovered = o.Nrecovered\n",
    "outPutNtarget = o.Ntarget\n",
    "completeNess = [float(x)/float(y) if y != 0 else 0 for x, y in zip(outPutNecovered,outPutNtarget)]"
   ]
  },
  {
   "cell_type": "code",
   "execution_count": null,
   "metadata": {},
   "outputs": [],
   "source": [
    "Nmax = max(o.Ntot)\n",
    "accuracy = [float(x)/float(Nmax) for x in o.Ntot]"
   ]
  },
  {
   "cell_type": "code",
   "execution_count": null,
   "metadata": {},
   "outputs": [],
   "source": [
    "compPerFilter = [[] for x in range(len(valList[2]))]\n",
    "accPerfilter = [[] for x in range(len(valList[2]))]\n",
    "settingsPerFilter = [[] for x in range(len(valList[2]))]\n",
    "for x in range(len(valList[2])):\n",
    "    for y in range(int(len(completeNess)/len(valList[2]))):\n",
    "        #print((y*len(valList[2])+x))\n",
    "        compPerFilter[x].append(completeNess[(y*len(valList[2])+x)])\n",
    "        settingsPerFilter[x].append(o.settings[(y*len(valList[2])+x)])\n",
    "        accPerfilter[x].append(accuracy[(y*len(valList[2])+x)])"
   ]
  },
  {
   "cell_type": "code",
   "execution_count": null,
   "metadata": {},
   "outputs": [],
   "source": [
    "fullwhm = valList[0]\n",
    "threshold = valList[1]"
   ]
  },
  {
   "cell_type": "code",
   "execution_count": null,
   "metadata": {},
   "outputs": [],
   "source": [
    "(accPerfilter[19])"
   ]
  },
  {
   "cell_type": "code",
   "execution_count": null,
   "metadata": {},
   "outputs": [],
   "source": [
    "def makeGraphfromFile(pyFile,valList,pyFileDirectory):\n",
    "    \n",
    "    subprocess.call(['cp',pyFileDirectory+pyFile,'./outputSextractorNew.py'])\n",
    "    #pyFile = pyFile.replace('.py','')\n",
    "    import outputSextractorNew as o\n",
    "    \n",
    "    outPutNecovered = o.Nrecovered\n",
    "    outPutNtarget = o.Ntarget\n",
    "    completeNess = [float(x)/float(y) if y != 0 else 0 for x, y in zip(outPutNecovered,outPutNtarget)]\n",
    "    Nmax = max(o.Ntot)\n",
    "    accuracy = [float(x)/float(Nmax) for x in o.Ntot]\n",
    "    \n",
    "    compPerFilter = [[] for x in range(len(valList[2]))]\n",
    "    accPerfilter = [[] for x in range(len(valList[2]))]\n",
    "    settingsPerFilter = [[] for x in range(len(valList[2]))]\n",
    "    for x in range(len(valList[2])):\n",
    "        for y in range(int(len(completeNess)/len(valList[2]))):\n",
    "            #print((y*len(valList[2])+x))\n",
    "            compPerFilter[x].append(completeNess[(y*len(valList[2])+x)])\n",
    "            settingsPerFilter[x].append(o.settings[(y*len(valList[2])+x)])\n",
    "            accPerfilter[x].append(accuracy[(y*len(valList[2])+x)])\n",
    "            \n",
    "    fullwhm = valList[0]\n",
    "    threshold = valList[1]\n",
    "    \n",
    "    imageName = pyFile.replace('_results.py','')\n",
    "    \n",
    "    for y in range(len(valList[2])):\n",
    "        accReformat = []\n",
    "        compReformat = []\n",
    "        for x in range(int(len(accPerfilter[y])/len(fullwhm))):\n",
    "            accReformat.append(accPerfilter[y][x:x+len(fullwhm)])\n",
    "            #print(accPerfilter[0][x:x+len(fullwhm)])\n",
    "            compReformat.append(compPerFilter[y][x:x+len(fullwhm)])\n",
    "            #totQualityReformat.append(tot[x:x+len(fullwhm)])\n",
    "\n",
    "    #     fig = plt.figure(figsize=(15,10))\n",
    "    #     ax = fig.gca(projection='3d')\n",
    "\n",
    "        font = {'family' : 'serif',\n",
    "                'weight' : 'normal',\n",
    "                'size'   : 14}\n",
    "        plt.rc('font', **font)\n",
    "        plt.rc('axes',linewidth=1)\n",
    "        #surf = ax.plot_surface(X,Y,Z,cmap='plasma',linewidth=0,antialiased=False)\n",
    "        fig = plt.figure(figsize=(15,10))\n",
    "        ax = fig.gca(projection='3d')\n",
    "        X,Y = np.meshgrid(fullwhm,threshold)\n",
    "        Z = np.array(accReformat)\n",
    "        surf = ax.plot_surface(X,Y,Z,cmap='plasma',linewidth=0,antialiased=False)\n",
    "\n",
    "        fig.colorbar(surf, shrink=0.5, aspect=5)\n",
    "        #plt.gca().invert_zaxis()\n",
    "        plt.xlabel('FWHM (Pixels)')\n",
    "        plt.ylabel('Detection Threshold (Sigma)')\n",
    "        ax.set_zlabel('Accuracy Score')\n",
    "        plt.tight_layout()\n",
    "        plt.savefig('/home/mj1e16/moleGazer/Photos/F/fitsImages/qualityCurves/acc_medium_filter_{}_image_{}_sextractor.png'.format(valList[2][y],imageName))\n",
    "        plt.show()\n",
    "\n",
    "    #     fig = plt.figure(figsize=(15,10))\n",
    "    #     ax = fig.gca(projection='3d')\n",
    "\n",
    "        font = {'family' : 'serif',\n",
    "                'weight' : 'normal',\n",
    "                'size'   : 14}\n",
    "        plt.rc('font', **font)\n",
    "        plt.rc('axes',linewidth=1)\n",
    "        #surf = ax.plot_surface(X,Y,Z,cmap='plasma',linewidth=0,antialiased=False)\n",
    "        fig = plt.figure(figsize=(15,10))\n",
    "        ax = fig.gca(projection='3d')\n",
    "        X,Y = np.meshgrid(fullwhm,threshold)\n",
    "        Z = np.array(compReformat)\n",
    "        surf = ax.plot_surface(X,Y,Z,cmap='plasma',linewidth=0,antialiased=False)\n",
    "\n",
    "        fig.colorbar(surf, shrink=0.5, aspect=5)\n",
    "        #plt.gca().invert_zaxis()\n",
    "        plt.xlabel('FWHM (Pixels)')\n",
    "        plt.ylabel('Detection Threshold (Sigma)')\n",
    "        ax.set_zlabel('Completeness')\n",
    "        plt.tight_layout()\n",
    "        plt.savefig('/home/mj1e16/moleGazer/Photos/F/fitsImages/qualityCurves/comp_medium_filter_{}_image_{}_sextractor.png'.format(valList[2][y],imageName))\n",
    "        plt.show()\n",
    "    \n",
    "        print(valList[2][y])"
   ]
  },
  {
   "cell_type": "code",
   "execution_count": null,
   "metadata": {},
   "outputs": [],
   "source": [
    "#makeGraphfromFile('29005_results.py',valList,'/home/mj1e16/moleGazer/Photos/F/fitsImages/simMolePos/')"
   ]
  },
  {
   "cell_type": "code",
   "execution_count": null,
   "metadata": {},
   "outputs": [],
   "source": [
    "outDir = '/home/mj1e16/moleGazer/Photos/F/fitsImages/simMolePos/'\n",
    "dirList = os.listdir(outDir)\n",
    "dirList = [x for x in dirList if '_results.py' in x]\n",
    "print(dirList)"
   ]
  },
  {
   "cell_type": "code",
   "execution_count": null,
   "metadata": {},
   "outputs": [],
   "source": [
    "# for result in dirList:\n",
    "#     makeGraphfromFile(result,valList,'/home/mj1e16/moleGazer/Photos/F/fitsImages/simMolePos/')"
   ]
  },
  {
   "cell_type": "code",
   "execution_count": null,
   "metadata": {},
   "outputs": [],
   "source": [
    "# accReformat = []\n",
    "# compReformat = []\n",
    "#totQualityReformat = []\n",
    "for y in range(len(valList[2])):\n",
    "    accReformat = []\n",
    "    compReformat = []\n",
    "    for x in range(int(len(accPerfilter[y])/len(fullwhm))):\n",
    "        accReformat.append(accPerfilter[y][x:x+len(fullwhm)])\n",
    "        #print(accPerfilter[0][x:x+len(fullwhm)])\n",
    "        compReformat.append(compPerFilter[y][x:x+len(fullwhm)])\n",
    "        #totQualityReformat.append(tot[x:x+len(fullwhm)])\n",
    "        \n",
    "#     fig = plt.figure(figsize=(15,10))\n",
    "#     ax = fig.gca(projection='3d')\n",
    "\n",
    "    font = {'family' : 'serif',\n",
    "            'weight' : 'normal',\n",
    "            'size'   : 14}\n",
    "    plt.rc('font', **font)\n",
    "    plt.rc('axes',linewidth=1)\n",
    "    #surf = ax.plot_surface(X,Y,Z,cmap='plasma',linewidth=0,antialiased=False)\n",
    "    fig = plt.figure(figsize=(15,10))\n",
    "    ax = fig.gca(projection='3d')\n",
    "    X,Y = np.meshgrid(fullwhm,threshold)\n",
    "    Z = np.array(accReformat)\n",
    "    surf = ax.plot_surface(X,Y,Z,cmap='plasma',linewidth=0,antialiased=False)\n",
    "\n",
    "    fig.colorbar(surf, shrink=0.5, aspect=5)\n",
    "    #plt.gca().invert_zaxis()\n",
    "    plt.xlabel('FWHM (Pixels)')\n",
    "    plt.ylabel('Detection Threshold (Sigma)')\n",
    "    ax.set_zlabel('Accuracy Score')\n",
    "    plt.tight_layout()\n",
    "    plt.savefig('/home/mj1e16/moleGazer/MoleGazer/acc_medium_filter_{}_sextractor.png'.format(valList[2][y]))\n",
    "    plt.show()\n",
    "    \n",
    "#     fig = plt.figure(figsize=(15,10))\n",
    "#     ax = fig.gca(projection='3d')\n",
    "\n",
    "    font = {'family' : 'serif',\n",
    "            'weight' : 'normal',\n",
    "            'size'   : 14}\n",
    "    plt.rc('font', **font)\n",
    "    plt.rc('axes',linewidth=1)\n",
    "    #surf = ax.plot_surface(X,Y,Z,cmap='plasma',linewidth=0,antialiased=False)\n",
    "    fig = plt.figure(figsize=(15,10))\n",
    "    ax = fig.gca(projection='3d')\n",
    "    X,Y = np.meshgrid(fullwhm,threshold)\n",
    "    Z = np.array(compReformat)\n",
    "    surf = ax.plot_surface(X,Y,Z,cmap='plasma',linewidth=0,antialiased=False)\n",
    "\n",
    "    fig.colorbar(surf, shrink=0.5, aspect=5)\n",
    "    #plt.gca().invert_zaxis()\n",
    "    plt.xlabel('FWHM (Pixels)')\n",
    "    plt.ylabel('Detection Threshold (Sigma)')\n",
    "    ax.set_zlabel('Completeness')\n",
    "    plt.tight_layout()\n",
    "    plt.savefig('/home/mj1e16/moleGazer/MoleGazer/qualityCurves/comp_medium_filter_{}_sextractor.png'.format(valList[2][y]))\n",
    "    plt.show()\n",
    "    \n",
    "    print(valList[2][y])"
   ]
  },
  {
   "cell_type": "code",
   "execution_count": null,
   "metadata": {},
   "outputs": [],
   "source": [
    "print(len(fullwhm))\n",
    "print(len(threshold))\n",
    "print(len(accReformat))\n",
    "print(len(accReformat[0]))"
   ]
  },
  {
   "cell_type": "code",
   "execution_count": null,
   "metadata": {},
   "outputs": [],
   "source": [
    "accReformat"
   ]
  },
  {
   "cell_type": "code",
   "execution_count": null,
   "metadata": {},
   "outputs": [],
   "source": [
    "fig = plt.figure(figsize=(15,10))\n",
    "ax = fig.gca(projection='3d')\n",
    "\n",
    "font = {'family' : 'serif',\n",
    "        'weight' : 'normal',\n",
    "        'size'   : 14}\n",
    "plt.rc('font', **font)\n",
    "plt.rc('axes',linewidth=1)\n",
    "#surf = ax.plot_surface(X,Y,Z,cmap='plasma',linewidth=0,antialiased=False)\n",
    "fig = plt.figure(figsize=(15,10))\n",
    "ax = fig.gca(projection='3d')\n",
    "X,Y = np.meshgrid(fullwhm,threshold)\n",
    "Z = np.array(accReformat)\n",
    "surf = ax.plot_surface(X,Y,Z,cmap='plasma',linewidth=0,antialiased=False)\n",
    "\n",
    "fig.colorbar(surf, shrink=0.5, aspect=5)\n",
    "#plt.gca().invert_zaxis()\n",
    "plt.xlabel('FWHM (Pixels)')\n",
    "plt.ylabel('Detection Threshold (Sigma)')\n",
    "ax.set_zlabel('Accuracy Score')\n",
    "plt.tight_layout()\n",
    "plt.savefig('/home/mj1e16/moleGazer/MoleGazer/accAverageImMeidumSim.png')\n",
    "plt.show()"
   ]
  },
  {
   "cell_type": "code",
   "execution_count": null,
   "metadata": {},
   "outputs": [],
   "source": [
    "fig = plt.figure(figsize=(15,10))\n",
    "ax = fig.gca(projection='3d')\n",
    "\n",
    "font = {'family' : 'serif',\n",
    "        'weight' : 'normal',\n",
    "        'size'   : 14}\n",
    "plt.rc('font', **font)\n",
    "plt.rc('axes',linewidth=1)\n",
    "#surf = ax.plot_surface(X,Y,Z,cmap='plasma',linewidth=0,antialiased=False)\n",
    "fig = plt.figure(figsize=(15,10))\n",
    "ax = fig.gca(projection='3d')\n",
    "X,Y = np.meshgrid(fullwhm,threshold)\n",
    "Z = np.array(compReformat)\n",
    "surf = ax.plot_surface(X,Y,Z,cmap='plasma',linewidth=0,antialiased=False)\n",
    "\n",
    "fig.colorbar(surf, shrink=0.5, aspect=5)\n",
    "#plt.gca().invert_zaxis()\n",
    "plt.xlabel('FWHM (Pixels)')\n",
    "plt.ylabel('Detection Threshold (Sigma)')\n",
    "ax.set_zlabel('Completeness')\n",
    "plt.tight_layout()\n",
    "plt.savefig('/home/mj1e16/moleGazer/MoleGazer/compAverageImMeidumSim.png')\n",
    "plt.show()"
   ]
  },
  {
   "cell_type": "code",
   "execution_count": null,
   "metadata": {},
   "outputs": [],
   "source": []
  }
 ],
 "metadata": {
  "kernelspec": {
   "display_name": "Python 3",
   "language": "python",
   "name": "python3"
  },
  "language_info": {
   "codemirror_mode": {
    "name": "ipython",
    "version": 2
   },
   "file_extension": ".py",
   "mimetype": "text/x-python",
   "name": "python",
   "nbconvert_exporter": "python",
   "pygments_lexer": "ipython2",
   "version": "2.7.12"
  }
 },
 "nbformat": 4,
 "nbformat_minor": 2
}
